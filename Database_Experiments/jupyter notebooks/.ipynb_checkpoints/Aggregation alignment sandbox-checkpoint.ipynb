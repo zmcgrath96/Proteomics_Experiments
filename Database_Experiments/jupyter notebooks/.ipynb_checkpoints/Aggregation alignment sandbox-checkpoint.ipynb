{
 "cells": [
  {
   "cell_type": "markdown",
   "metadata": {},
   "source": [
    "# Aggregation alignment sandbox\n",
    "### Primary issue\n",
    "With the original scoring algorithm, it was \"ok\" to just aggregate scores from the left side. However, this doesn't make any sense with separated scores for each ion type. For y ions, we want to aggregate from the right. Example\n",
    "\n",
    "Sequence: `MALWARMSTRV`\n",
    "\n",
    "For our b ion scores, we want to aggregate kmer scores from the left. So in order to identify this sequence, we want to do something like this\n",
    "\n",
    "```\n",
    "MAL\n",
    "MALWA\n",
    "MALWARM\n",
    "...\n",
    "MALWARMSTRV\n",
    "```\n",
    "\n",
    "Aggregating here will capture the rise and fall of the score.\n",
    "\n",
    "### Solution\n",
    "\n",
    "However, the only full hit we get for the y ion score is the last one. In order to get better aggregation scores for the y ions, we want the following:\n",
    "\n",
    "```\n",
    "        TRV\n",
    "      MSTRV\n",
    "        ...\n",
    "MALWARMSTRV\n",
    "```\n",
    "\n",
    "This should give us a better aggregation score"
   ]
  },
  {
   "cell_type": "markdown",
   "metadata": {},
   "source": [
    "### import scoring tools "
   ]
  },
  {
   "cell_type": "code",
   "execution_count": 6,
   "metadata": {},
   "outputs": [],
   "source": [
    "import sys\n",
    "sys.path.append('/Users/zacharymcgrath/Documents/Layer_Research/Proteomics_Experiments/Database_Experiments/')\n",
    "\n",
    "from scoring import comparisons\n",
    "from analysis import  aggregations"
   ]
  },
  {
   "cell_type": "markdown",
   "metadata": {},
   "source": [
    "### mock data"
   ]
  },
  {
   "cell_type": "code",
   "execution_count": 9,
   "metadata": {},
   "outputs": [
    {
     "name": "stdout",
     "output_type": "stream",
     "text": [
      "{'k=4': ['MALW', 'ALWA', 'LWAR', 'WARM', 'ARMS', 'RMST', 'MSTR', 'STRV', 'TRVK'], 'k=6': ['MALWAR', 'ALWARM', 'LWARMS', 'WARMST', 'ARMSTR', 'RMSTRV', 'MSTRVK'], 'k=8': ['MALWARMS', 'ALWARMST', 'LWARMSTR', 'WARMSTRV', 'ARMSTRVK'], 'k=10': ['MALWARMSTR', 'ALWARMSTRV', 'LWARMSTRVK'], 'k=12': ['MALWARMSTRVK']}\n"
     ]
    }
   ],
   "source": [
    "sequence = 'MALWARMSTRVK'\n",
    "ks = [4, 6, 8, 10, 12]\n",
    "make_mers = lambda k, seq: [seq[i: i+k] for i in range(len(seq) - k + 1)]\n",
    "kmers = {'k={}'.format(k): make_mers(k, sequence) for k in ks}\n",
    "print(kmers)"
   ]
  },
  {
   "cell_type": "markdown",
   "metadata": {},
   "source": [
    "### aligners for b and y side"
   ]
  },
  {
   "cell_type": "code",
   "execution_count": 21,
   "metadata": {},
   "outputs": [
    {
     "name": "stdout",
     "output_type": "stream",
     "text": [
      "MALWARMSTRVK\n",
      "        TRVK\n",
      "      MSTRVK\n",
      "    ARMSTRVK\n",
      "  LWARMSTRVK\n",
      "MALWARMSTRVK\n"
     ]
    }
   ],
   "source": [
    "def print_b_alignment(kmers, seq):\n",
    "    print(seq)\n",
    "    for i, kmer in enumerate(kmers):\n",
    "        print(' ' * i + kmer)\n",
    "        \n",
    "def print_y_alignment(kmers, seq):\n",
    "    print(seq)\n",
    "    for i in range(len(kmers)-1, -1, -1):\n",
    "        print(' ' * i + kmers[i])\n",
    "        \n",
    "def print_b_aligned_kmers(kmers, seq):\n",
    "    print(seq)\n",
    "    for k, mers in kmers.items():\n",
    "        print(mers[0])\n",
    "\n",
    "def print_y_aligned_kmers(kmers, seq):\n",
    "    print(seq)\n",
    "    for k, mers in kmers.items():\n",
    "        print(' ' * (len(seq) - len(mers[-1])) + mers[-1])\n",
    "        \n",
    "print_y_aligned_kmers(kmers, sequence)"
   ]
  },
  {
   "cell_type": "markdown",
   "metadata": {},
   "source": [
    "### Scoring the current way"
   ]
  },
  {
   "cell_type": "code",
   "execution_count": 24,
   "metadata": {},
   "outputs": [
    {
     "name": "stdout",
     "output_type": "stream",
     "text": [
      "{'k=4': [1.25, 0.0, 0.0, 0.0, 0.0, 0.0, 0.25, 0.0, 0.0], 'k=6': [1.9166666666666667, 0.25, 0.0, 0.0, 0.0, 0.0, 0.25], 'k=8': [2.5833333333333335, 0.25, 0.0, 0.0, 0.0], 'k=10': [3.25, 0.25, 0.0], 'k=12': [3.9166666666666665]}\n",
      "\n",
      "{'k=4': [0.0, 0.0, 0.0, 0.0, 0.0, 0.0, 0.0, 0.0, 1.25], 'k=6': [0.0, 0.0, 0.0, 0.0, 0.0, 0.0, 1.9166666666666667], 'k=8': [0.0, 0.0, 0.0, 0.0, 2.5833333333333335], 'k=10': [0.0, 0.0, 3.25], 'k=12': [3.9166666666666665]}\n"
     ]
    }
   ],
   "source": [
    "score_mers = lambda mer, seq, ion: [comparisons.compare_sequence_sequence_ion_type(m, seq, ion) for m in mer]\n",
    "score_kmers = lambda mers, seq, ion: {k: score_mers(mers[k], seq, ion) for k in mers}\n",
    "b_scored = score_kmers(kmers, sequence, 'b')\n",
    "y_scored = score_kmers(kmers, sequence, 'y')\n",
    "print(b_scored)\n",
    "print('')\n",
    "print(y_scored)"
   ]
  },
  {
   "cell_type": "markdown",
   "metadata": {},
   "source": [
    "We see that the scores are the same, just in different positions. We need to account for this when aggregating somehow. We should add a lot of zeros to the left of the longer kmers, but it still leaves us with \"how do we keep track of this\""
   ]
  },
  {
   "cell_type": "markdown",
   "metadata": {},
   "source": [
    "#### Note\n",
    "We already have a function for padding zeros to the right of for longer kmers (as their list is shorter) so we can do this to the left. We just need to somehow keep track of it"
   ]
  },
  {
   "cell_type": "code",
   "execution_count": 25,
   "metadata": {},
   "outputs": [
    {
     "ename": "TypeError",
     "evalue": "pad_scores() got an unexpected keyword argument 'side'",
     "output_type": "error",
     "traceback": [
      "\u001b[0;31m---------------------------------------------------------------------------\u001b[0m",
      "\u001b[0;31mTypeError\u001b[0m                                 Traceback (most recent call last)",
      "\u001b[0;32m<ipython-input-25-ab0559dc6171>\u001b[0m in \u001b[0;36m<module>\u001b[0;34m\u001b[0m\n\u001b[1;32m      6\u001b[0m \u001b[0;32mfor\u001b[0m \u001b[0mk\u001b[0m \u001b[0;32min\u001b[0m \u001b[0mb_scored\u001b[0m\u001b[0;34m:\u001b[0m\u001b[0;34m\u001b[0m\u001b[0;34m\u001b[0m\u001b[0m\n\u001b[1;32m      7\u001b[0m     \u001b[0mb_scored\u001b[0m\u001b[0;34m[\u001b[0m\u001b[0mk\u001b[0m\u001b[0;34m]\u001b[0m \u001b[0;34m=\u001b[0m \u001b[0mscore_utils\u001b[0m\u001b[0;34m.\u001b[0m\u001b[0mpad_scores\u001b[0m\u001b[0;34m(\u001b[0m\u001b[0mb_scored\u001b[0m\u001b[0;34m[\u001b[0m\u001b[0mk\u001b[0m\u001b[0;34m]\u001b[0m\u001b[0;34m,\u001b[0m \u001b[0mb_scored\u001b[0m\u001b[0;34m[\u001b[0m\u001b[0;34m'k=4'\u001b[0m\u001b[0;34m]\u001b[0m\u001b[0;34m)\u001b[0m\u001b[0;34m\u001b[0m\u001b[0;34m\u001b[0m\u001b[0m\n\u001b[0;32m----> 8\u001b[0;31m     \u001b[0my_scored\u001b[0m\u001b[0;34m[\u001b[0m\u001b[0mk\u001b[0m\u001b[0;34m]\u001b[0m \u001b[0;34m=\u001b[0m \u001b[0mscore_utils\u001b[0m\u001b[0;34m.\u001b[0m\u001b[0mpad_scores\u001b[0m\u001b[0;34m(\u001b[0m\u001b[0my_scored\u001b[0m\u001b[0;34m[\u001b[0m\u001b[0mk\u001b[0m\u001b[0;34m]\u001b[0m\u001b[0;34m,\u001b[0m \u001b[0my_scored\u001b[0m\u001b[0;34m[\u001b[0m\u001b[0;34m'k=4'\u001b[0m\u001b[0;34m]\u001b[0m\u001b[0;34m,\u001b[0m \u001b[0mside\u001b[0m\u001b[0;34m=\u001b[0m\u001b[0;34m'l'\u001b[0m\u001b[0;34m)\u001b[0m\u001b[0;34m\u001b[0m\u001b[0;34m\u001b[0m\u001b[0m\n\u001b[0m\u001b[1;32m      9\u001b[0m \u001b[0;34m\u001b[0m\u001b[0m\n\u001b[1;32m     10\u001b[0m \u001b[0mprint\u001b[0m\u001b[0;34m(\u001b[0m\u001b[0mb_scored\u001b[0m\u001b[0;34m)\u001b[0m\u001b[0;34m\u001b[0m\u001b[0;34m\u001b[0m\u001b[0m\n",
      "\u001b[0;31mTypeError\u001b[0m: pad_scores() got an unexpected keyword argument 'side'"
     ]
    }
   ],
   "source": [
    "from analysis import score_utils\n",
    "\n",
    "normalized_bs = {}\n",
    "normalized_ys = {}\n",
    "\n",
    "for k in b_scored:\n",
    "    b_scored[k] = score_utils.pad_scores(b_scored[k], b_scored['k=4'])\n",
    "    y_scored[k] = score_utils.pad_scores(y_scored[k], y_scored['k=4'], side='l')\n",
    "    \n",
    "print(b_scored)\n",
    "print('')\n",
    "print(y_score)"
   ]
  },
  {
   "cell_type": "code",
   "execution_count": null,
   "metadata": {},
   "outputs": [],
   "source": []
  }
 ],
 "metadata": {
  "kernelspec": {
   "display_name": "Python 3",
   "language": "python",
   "name": "python3"
  },
  "language_info": {
   "codemirror_mode": {
    "name": "ipython",
    "version": 3
   },
   "file_extension": ".py",
   "mimetype": "text/x-python",
   "name": "python",
   "nbconvert_exporter": "python",
   "pygments_lexer": "ipython3",
   "version": "3.7.4"
  }
 },
 "nbformat": 4,
 "nbformat_minor": 4
}
