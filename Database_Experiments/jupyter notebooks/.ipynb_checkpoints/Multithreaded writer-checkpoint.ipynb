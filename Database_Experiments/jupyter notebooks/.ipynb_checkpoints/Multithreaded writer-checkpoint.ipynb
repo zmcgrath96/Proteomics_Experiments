{
 "cells": [
  {
   "cell_type": "code",
   "execution_count": 9,
   "metadata": {},
   "outputs": [],
   "source": [
    "import threading, queue, random, copy, time\n",
    "\n",
    "def write(stuff, filename):\n",
    "    with open(filename, 'w') as o:\n",
    "        o.write(stuff)\n",
    "\n",
    "def threaded_write(q):\n",
    "    while True:\n",
    "        if not q.emtpy():\n",
    "            stuff, filename = q.get()\n",
    "            write(stuff, filename)\n",
    "        else: \n",
    "            time.sleep(0.005)\n",
    "\n",
    "def processing_stuff():\n",
    "    q = queue.Queue()\n",
    "    wt = threading.Thread(target=threaded_write, args=(q))\n",
    "    wt.start()\n",
    "    this_stuff = []\n",
    "    for y in range(random.randint(10000)):\n",
    "        this_stuff.append(x)\n",
    "    q.put((copy.deepcopy(this_stuff), 'Documents/this_stuff_{}'.format(y)))\n",
    "    # block till writting done\n",
    "    q.join()\n",
    "    wt.join()\n",
    "        \n",
    "        "
   ]
  },
  {
   "cell_type": "code",
   "execution_count": null,
   "metadata": {},
   "outputs": [],
   "source": []
  }
 ],
 "metadata": {
  "kernelspec": {
   "display_name": "Python 3",
   "language": "python",
   "name": "python3"
  },
  "language_info": {
   "codemirror_mode": {
    "name": "ipython",
    "version": 3
   },
   "file_extension": ".py",
   "mimetype": "text/x-python",
   "name": "python",
   "nbconvert_exporter": "python",
   "pygments_lexer": "ipython3",
   "version": "3.7.4"
  }
 },
 "nbformat": 4,
 "nbformat_minor": 4
}
