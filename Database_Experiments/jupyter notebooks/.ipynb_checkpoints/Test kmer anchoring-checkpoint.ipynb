{
 "cells": [
  {
   "cell_type": "markdown",
   "metadata": {},
   "source": [
    "# Small k-mer scores to find points of interest"
   ]
  },
  {
   "cell_type": "markdown",
   "metadata": {},
   "source": [
    "### import all the scoring tools"
   ]
  },
  {
   "cell_type": "code",
   "execution_count": 2,
   "metadata": {},
   "outputs": [],
   "source": [
    "import sys\n",
    "sys.path.append('/Users/zacharymcgrath/Documents/Layer_Research/Proteomics_Experiments/Database_Experiments/src')\n",
    "\n",
    "from scoring import comparisons\n",
    "from spectra import gen_spectra\n",
    "\n",
    "import numpy as np\n",
    "from copy import deepcopy"
   ]
  },
  {
   "cell_type": "markdown",
   "metadata": {},
   "source": [
    "### Make some fake data for the time being"
   ]
  },
  {
   "cell_type": "markdown",
   "metadata": {},
   "source": [
    "#### reference "
   ]
  },
  {
   "cell_type": "code",
   "execution_count": 3,
   "metadata": {},
   "outputs": [],
   "source": [
    "insulin = 'MALWMRLLPLLALLALWGPDPAAAFVNQHLCGSHLVEALYLVCGERGFFYTPKTRREAEDLQVGQVELGGGPGAGSLQPLALEGSLQKRGIVEQCCTSICSLYQLENYCN'\n",
    "make_mers = lambda k, seq: [seq[i:i+k] for i in range(len(seq) - k + 1)]\n",
    "ins_3mers = make_mers(3, insulin)\n"
   ]
  },
  {
   "cell_type": "markdown",
   "metadata": {},
   "source": [
    "#### \"unknown\""
   ]
  },
  {
   "cell_type": "code",
   "execution_count": 4,
   "metadata": {},
   "outputs": [
    {
     "name": "stdout",
     "output_type": "stream",
     "text": [
      "R\n"
     ]
    }
   ],
   "source": [
    "pepseq = 'PGAGSLQPLALEGSLQKR'\n",
    "pepstart = insulin.index(pepseq)\n",
    "peplen = len(pepseq)\n",
    "pepspec = gen_spectra.gen_spectrum(pepseq)['spectrum']\n",
    "print(insulin[pepstart+peplen-1])"
   ]
  },
  {
   "cell_type": "markdown",
   "metadata": {},
   "source": [
    "### run all the kmers against this unknown spectra"
   ]
  },
  {
   "cell_type": "code",
   "execution_count": 5,
   "metadata": {},
   "outputs": [
    {
     "name": "stdout",
     "output_type": "stream",
     "text": [
      "{'k': 3, 'sequence': 'WMR', 'starting_position': 3, 'ending_position': 5, 'b-score': 0.0, 'y-score': 1.0}\n",
      "{'k': 3, 'sequence': 'PLL', 'starting_position': 8, 'ending_position': 10, 'b-score': 1.0, 'y-score': 0.0}\n",
      "{'k': 3, 'sequence': 'GPD', 'starting_position': 17, 'ending_position': 19, 'b-score': 1.0, 'y-score': 0.0}\n",
      "{'k': 3, 'sequence': 'PDP', 'starting_position': 18, 'ending_position': 20, 'b-score': 1.0, 'y-score': 0.0}\n",
      "{'k': 3, 'sequence': 'PAA', 'starting_position': 20, 'ending_position': 22, 'b-score': 1.0, 'y-score': 0.0}\n",
      "{'k': 3, 'sequence': 'GER', 'starting_position': 43, 'ending_position': 45, 'b-score': 0.0, 'y-score': 1.0}\n",
      "{'k': 3, 'sequence': 'PKT', 'starting_position': 51, 'ending_position': 53, 'b-score': 1.0, 'y-score': 0.0}\n",
      "{'k': 3, 'sequence': 'KTR', 'starting_position': 52, 'ending_position': 54, 'b-score': 0.0, 'y-score': 1.0}\n",
      "{'k': 3, 'sequence': 'TRR', 'starting_position': 53, 'ending_position': 55, 'b-score': 0.0, 'y-score': 1.0}\n",
      "{'k': 3, 'sequence': 'GPG', 'starting_position': 70, 'ending_position': 72, 'b-score': 1.0, 'y-score': 0.0}\n",
      "{'k': 3, 'sequence': 'PGA', 'starting_position': 71, 'ending_position': 73, 'b-score': 2.6666666666666665, 'y-score': 0.0}\n",
      "{'k': 3, 'sequence': 'QPL', 'starting_position': 77, 'ending_position': 79, 'b-score': 1.0, 'y-score': 0.0}\n",
      "{'k': 3, 'sequence': 'PLA', 'starting_position': 78, 'ending_position': 80, 'b-score': 1.0, 'y-score': 0.0}\n",
      "{'k': 3, 'sequence': 'QKR', 'starting_position': 86, 'ending_position': 88, 'b-score': 0.0, 'y-score': 2.3333333333333335}\n"
     ]
    }
   ],
   "source": [
    "scores = []\n",
    "for i, merseq in enumerate(ins_3mers):\n",
    "    b_merspec = gen_spectra.gen_spectrum(merseq, ion='b')['spectrum']\n",
    "    y_merspec = gen_spectra.gen_spectrum(merseq, ion='y')['spectrum']\n",
    "    b_score = comparisons.compare_masses(pepspec, b_merspec)\n",
    "    y_score = comparisons.compare_masses(pepspec, y_merspec)\n",
    "    entry = {\n",
    "        'k': 3,\n",
    "        'sequence': merseq,\n",
    "        'starting_position': i,\n",
    "        'ending_position': i + 2,\n",
    "        'b-score': b_score,\n",
    "        'y-score': y_score\n",
    "    }\n",
    "    scores.append(entry)\n",
    "    \n",
    "for sc in scores:\n",
    "    (sc['b-score'] > 0 or sc['y-score'] > 0)  and print(sc)"
   ]
  },
  {
   "cell_type": "code",
   "execution_count": 6,
   "metadata": {},
   "outputs": [],
   "source": [
    "# save the scores as (score, position)\n",
    "b_scores = [(x['b-score'], x['starting_position']) for x in scores]\n",
    "y_scores = [(x['y-score'], x['starting_position']) for x in scores]"
   ]
  },
  {
   "cell_type": "markdown",
   "metadata": {},
   "source": [
    "## Find a way to separate the interesting scores from the rest"
   ]
  },
  {
   "cell_type": "markdown",
   "metadata": {},
   "source": [
    "### try going for 2 stddevs away"
   ]
  },
  {
   "cell_type": "code",
   "execution_count": 7,
   "metadata": {},
   "outputs": [
    {
     "name": "stdout",
     "output_type": "stream",
     "text": [
      "[{'k': 3, 'sequence': 'PLL', 'starting_position': 8, 'ending_position': 10, 'b-score': 1.0, 'y-score': 0.0}, {'k': 3, 'sequence': 'GPD', 'starting_position': 17, 'ending_position': 19, 'b-score': 1.0, 'y-score': 0.0}, {'k': 3, 'sequence': 'PDP', 'starting_position': 18, 'ending_position': 20, 'b-score': 1.0, 'y-score': 0.0}, {'k': 3, 'sequence': 'PAA', 'starting_position': 20, 'ending_position': 22, 'b-score': 1.0, 'y-score': 0.0}, {'k': 3, 'sequence': 'PKT', 'starting_position': 51, 'ending_position': 53, 'b-score': 1.0, 'y-score': 0.0}, {'k': 3, 'sequence': 'GPG', 'starting_position': 70, 'ending_position': 72, 'b-score': 1.0, 'y-score': 0.0}, {'k': 3, 'sequence': 'PGA', 'starting_position': 71, 'ending_position': 73, 'b-score': 2.6666666666666665, 'y-score': 0.0}, {'k': 3, 'sequence': 'QPL', 'starting_position': 77, 'ending_position': 79, 'b-score': 1.0, 'y-score': 0.0}, {'k': 3, 'sequence': 'PLA', 'starting_position': 78, 'ending_position': 80, 'b-score': 1.0, 'y-score': 0.0}]\n",
      "[{'k': 3, 'sequence': 'WMR', 'starting_position': 3, 'ending_position': 5, 'b-score': 0.0, 'y-score': 1.0}, {'k': 3, 'sequence': 'GER', 'starting_position': 43, 'ending_position': 45, 'b-score': 0.0, 'y-score': 1.0}, {'k': 3, 'sequence': 'KTR', 'starting_position': 52, 'ending_position': 54, 'b-score': 0.0, 'y-score': 1.0}, {'k': 3, 'sequence': 'TRR', 'starting_position': 53, 'ending_position': 55, 'b-score': 0.0, 'y-score': 1.0}, {'k': 3, 'sequence': 'QKR', 'starting_position': 86, 'ending_position': 88, 'b-score': 0.0, 'y-score': 2.3333333333333335}]\n",
      "14\n"
     ]
    }
   ],
   "source": [
    "sb = np.std([b[0] for b in b_scores])\n",
    "sy = np.std([y[0] for y in y_scores])\n",
    "\n",
    "s2b = [sc for sc in scores if sc['b-score'] > 2*sb]\n",
    "s2y = [sc for sc in scores if sc['y-score'] > 2*sy]\n",
    "\n",
    "print(s2b)\n",
    "print(s2y)\n",
    "print(len(s2b) + len(s2y))"
   ]
  },
  {
   "cell_type": "markdown",
   "metadata": {},
   "source": [
    "## Only look at the 2 stddev scores and increase kmer length"
   ]
  },
  {
   "cell_type": "code",
   "execution_count": 8,
   "metadata": {},
   "outputs": [
    {
     "name": "stdout",
     "output_type": "stream",
     "text": [
      "14\n"
     ]
    }
   ],
   "source": [
    "make_mer_sp = lambda starting_pos, prot, k: prot[starting_pos: starting_pos+k]\n",
    "make_mer_ep = lambda ending_pos, prot, k: prot[ending_pos-k+1:ending_pos+1]\n",
    "\n",
    "ins_4mers = []\n",
    "\n",
    "for b in s2b:\n",
    "    merseq = make_mer_sp(b['starting_position'], insulin, 4)    \n",
    "    b_merspec = gen_spectra.gen_spectrum(merseq, ion='b')['spectrum']\n",
    "    y_merspec = gen_spectra.gen_spectrum(merseq, ion='y')['spectrum']\n",
    "    b_score = comparisons.compare_masses(pepspec, b_merspec)\n",
    "    y_score = comparisons.compare_masses(pepspec, y_merspec)\n",
    "    entry = deepcopy(b)\n",
    "    \n",
    "    entry['k'] = 4\n",
    "    entry['ending_position'] = entry['starting_position'] + 3\n",
    "    entry['b-score'] = b_score\n",
    "    entry['y-score'] = y_score\n",
    "    \n",
    "    ins_4mers.append(entry)\n",
    "\n",
    "for y in s2y:\n",
    "    merseq = make_mer_sp(y['starting_position'], insulin, 4)    \n",
    "    b_merspec = gen_spectra.gen_spectrum(merseq, ion='b')['spectrum']\n",
    "    y_merspec = gen_spectra.gen_spectrum(merseq, ion='y')['spectrum']\n",
    "    b_score = comparisons.compare_masses(pepspec, b_merspec)\n",
    "    y_score = comparisons.compare_masses(pepspec, y_merspec)\n",
    "    entry = deepcopy(y)\n",
    "    \n",
    "    entry['k'] = 4\n",
    "    entry['ending_position'] = entry['starting_position'] + 3\n",
    "    entry['b-score'] = b_score\n",
    "    entry['y-score'] = y_score\n",
    "    ins_4mers.append(entry)\n",
    "    \n",
    "print(len(ins_4mers))"
   ]
  },
  {
   "cell_type": "code",
   "execution_count": null,
   "metadata": {},
   "outputs": [],
   "source": []
  }
 ],
 "metadata": {
  "kernelspec": {
   "display_name": "Python 3",
   "language": "python",
   "name": "python3"
  },
  "language_info": {
   "codemirror_mode": {
    "name": "ipython",
    "version": 3
   },
   "file_extension": ".py",
   "mimetype": "text/x-python",
   "name": "python",
   "nbconvert_exporter": "python",
   "pygments_lexer": "ipython3",
   "version": "3.7.4"
  }
 },
 "nbformat": 4,
 "nbformat_minor": 4
}
