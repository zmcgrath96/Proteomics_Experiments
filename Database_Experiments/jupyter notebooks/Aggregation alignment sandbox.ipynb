{
 "cells": [
  {
   "cell_type": "markdown",
   "metadata": {},
   "source": [
    "# Aggregation alignment sandbox\n",
    "### Primary issue 14 MARCH 2020\n",
    "With the original scoring algorithm, it was \"ok\" to just aggregate scores from the left side. However, this doesn't make any sense with separated scores for each ion type. For y ions, we want to aggregate from the right. Example\n",
    "\n",
    "Sequence: `MALWARMSTRV`\n",
    "\n",
    "For our b ion scores, we want to aggregate kmer scores from the left. So in order to identify this sequence, we want to do something like this\n",
    "\n",
    "```\n",
    "MAL\n",
    "MALWA\n",
    "MALWARM\n",
    "...\n",
    "MALWARMSTRV\n",
    "```\n",
    "\n",
    "Aggregating here will capture the rise and fall of the score.\n",
    "\n",
    "### Solution\n",
    "\n",
    "However, the only full hit we get for the y ion score is the last one. In order to get better aggregation scores for the y ions, we want the following:\n",
    "\n",
    "```\n",
    "        TRV\n",
    "      MSTRV\n",
    "        ...\n",
    "MALWARMSTRV\n",
    "```\n",
    "\n",
    "This should give us a better aggregation score"
   ]
  },
  {
   "cell_type": "markdown",
   "metadata": {},
   "source": [
    "### import scoring tools "
   ]
  },
  {
   "cell_type": "code",
   "execution_count": 2,
   "metadata": {},
   "outputs": [],
   "source": [
    "import sys\n",
    "sys.path.append('/Users/zacharymcgrath/Documents/Layer_Research/Proteomics_Experiments/Database_Experiments/src')\n",
    "\n",
    "from scoring import comparisons\n",
    "from analysis import  aggregations"
   ]
  },
  {
   "cell_type": "markdown",
   "metadata": {},
   "source": [
    "### mock data"
   ]
  },
  {
   "cell_type": "code",
   "execution_count": 3,
   "metadata": {},
   "outputs": [
    {
     "name": "stdout",
     "output_type": "stream",
     "text": [
      "{'k=4': ['MALW', 'ALWA', 'LWAR', 'WARM', 'ARMS', 'RMST', 'MSTR', 'STRV', 'TRVK'], 'k=6': ['MALWAR', 'ALWARM', 'LWARMS', 'WARMST', 'ARMSTR', 'RMSTRV', 'MSTRVK'], 'k=8': ['MALWARMS', 'ALWARMST', 'LWARMSTR', 'WARMSTRV', 'ARMSTRVK'], 'k=10': ['MALWARMSTR', 'ALWARMSTRV', 'LWARMSTRVK'], 'k=12': ['MALWARMSTRVK']}\n"
     ]
    }
   ],
   "source": [
    "sequence = 'MALWARMSTRVK'\n",
    "ks = [4, 6, 8, 10, 12]\n",
    "make_mers = lambda k, seq: [seq[i: i+k] for i in range(len(seq) - k + 1)]\n",
    "kmers = {'k={}'.format(k): make_mers(k, sequence) for k in ks}\n",
    "print(kmers)"
   ]
  },
  {
   "cell_type": "markdown",
   "metadata": {},
   "source": [
    "### aligners for b and y side"
   ]
  },
  {
   "cell_type": "code",
   "execution_count": 4,
   "metadata": {},
   "outputs": [
    {
     "name": "stdout",
     "output_type": "stream",
     "text": [
      "MALWARMSTRVK\n",
      "        TRVK\n",
      "      MSTRVK\n",
      "    ARMSTRVK\n",
      "  LWARMSTRVK\n",
      "MALWARMSTRVK\n"
     ]
    }
   ],
   "source": [
    "def print_b_alignment(kmers, seq):\n",
    "    print(seq)\n",
    "    for i, kmer in enumerate(kmers):\n",
    "        print(' ' * i + kmer)\n",
    "        \n",
    "def print_y_alignment(kmers, seq):\n",
    "    print(seq)\n",
    "    for i in range(len(kmers)-1, -1, -1):\n",
    "        print(' ' * i + kmers[i])\n",
    "        \n",
    "def print_b_aligned_kmers(kmers, seq):\n",
    "    print(seq)\n",
    "    for k, mers in kmers.items():\n",
    "        print(mers[0])\n",
    "\n",
    "def print_y_aligned_kmers(kmers, seq):\n",
    "    print(seq)\n",
    "    for k, mers in kmers.items():\n",
    "        print(' ' * (len(seq) - len(mers[-1])) + mers[-1])\n",
    "        \n",
    "print_y_aligned_kmers(kmers, sequence)"
   ]
  },
  {
   "cell_type": "markdown",
   "metadata": {},
   "source": [
    "### Scoring the current way"
   ]
  },
  {
   "cell_type": "code",
   "execution_count": 5,
   "metadata": {},
   "outputs": [
    {
     "name": "stdout",
     "output_type": "stream",
     "text": [
      "{'k=4': [1.25, 0.0, 0.0, 0.0, 0.0, 0.0, 0.25, 0.0, 0.0], 'k=6': [1.9166666666666667, 0.25, 0.0, 0.0, 0.0, 0.0, 0.25], 'k=8': [2.5833333333333335, 0.25, 0.0, 0.0, 0.0], 'k=10': [3.25, 0.25, 0.0], 'k=12': [3.9166666666666665]}\n",
      "\n",
      "{'k=4': [0.0, 0.0, 0.0, 0.0, 0.0, 0.0, 0.0, 0.0, 1.25], 'k=6': [0.0, 0.0, 0.0, 0.0, 0.0, 0.0, 1.9166666666666667], 'k=8': [0.0, 0.0, 0.0, 0.0, 2.5833333333333335], 'k=10': [0.0, 0.0, 3.25], 'k=12': [3.9166666666666665]}\n"
     ]
    }
   ],
   "source": [
    "score_mers = lambda mer, seq, ion: [comparisons.compare_sequence_sequence_ion_type(m, seq, ion) for m in mer]\n",
    "score_kmers = lambda mers, seq, ion: {k: score_mers(mers[k], seq, ion) for k in mers}\n",
    "b_scored = score_kmers(kmers, sequence, 'b')\n",
    "y_scored = score_kmers(kmers, sequence, 'y')\n",
    "print(b_scored)\n",
    "print('')\n",
    "print(y_scored)"
   ]
  },
  {
   "cell_type": "markdown",
   "metadata": {},
   "source": [
    "We see that the scores are the same, just in different positions. We need to account for this when aggregating somehow. We should add a lot of zeros to the left of the longer kmers, but it still leaves us with \"how do we keep track of this\""
   ]
  },
  {
   "cell_type": "markdown",
   "metadata": {},
   "source": [
    "#### Note\n",
    "We already have a function for padding zeros to the right of for longer kmers (as their list is shorter) so we can do this to the left. We just need to somehow keep track of it"
   ]
  },
  {
   "cell_type": "code",
   "execution_count": 8,
   "metadata": {},
   "outputs": [
    {
     "name": "stdout",
     "output_type": "stream",
     "text": [
      "{'k=4': [1.25, 0.0, 0.0, 0.0, 0.0, 0.0, 0.25, 0.0, 0.0, 0, 0, 0], 'k=6': [1.9166666666666667, 0.25, 0.0, 0.0, 0.0, 0.0, 0.25, 0, 0, 0, 0, 0], 'k=8': [2.5833333333333335, 0.25, 0.0, 0.0, 0.0, 0, 0, 0, 0, 0, 0, 0], 'k=10': [3.25, 0.25, 0.0, 0, 0, 0, 0, 0, 0, 0, 0, 0], 'k=12': [3.9166666666666665, 0, 0, 0, 0, 0, 0, 0, 0, 0, 0, 0]}\n",
      "\n",
      "{'k=4': [0, 0, 0, 0.0, 0.0, 0.0, 0.0, 0.0, 0.0, 0.0, 0.0, 1.25], 'k=6': [0, 0, 0, 0, 0, 0.0, 0.0, 0.0, 0.0, 0.0, 0.0, 1.9166666666666667], 'k=8': [0, 0, 0, 0, 0, 0, 0, 0.0, 0.0, 0.0, 0.0, 2.5833333333333335], 'k=10': [0, 0, 0, 0, 0, 0, 0, 0, 0, 0.0, 0.0, 3.25], 'k=12': [0, 0, 0, 0, 0, 0, 0, 0, 0, 0, 0, 3.9166666666666665]}\n"
     ]
    }
   ],
   "source": [
    "from analysis import score_utils\n",
    "\n",
    "normalized_bs = {}\n",
    "normalized_ys = {}\n",
    "\n",
    "for k in b_scored:\n",
    "    normalized_bs[k], _ = score_utils.pad_scores(b_scored[k], b_scored['k=4'])\n",
    "    normalized_ys[k], _ = score_utils.pad_scores(y_scored[k], y_scored['k=4'], side='l')\n",
    "    normalized_bs[k] += [0 for _ in range(3)]\n",
    "    normalized_ys[k] = [0 for _ in range(3)] + normalized_ys[k]\n",
    "    \n",
    "print(normalized_bs)\n",
    "print('')\n",
    "print(normalized_ys)"
   ]
  },
  {
   "cell_type": "code",
   "execution_count": 40,
   "metadata": {},
   "outputs": [
    {
     "name": "stdout",
     "output_type": "stream",
     "text": [
      "[13.113797840011015, -0.9527575573559024, -1.8198739859607125, -1.8198739859607125, -1.8198739859607125, -1.8198739859607125, -1.2417963668908392, -1.8198739859607125, -1.8198739859607125]\n",
      "\n",
      "[-1.6485630655196284, -1.6485630655196284, -1.6485630655196284, -1.6485630655196284, -1.6485630655196284, -1.6485630655196284, -1.6485630655196284, -1.6485630655196284, 13.188504524157029]\n"
     ]
    }
   ],
   "source": [
    "b_agged = aggregations.__z_score_sum(normalized_bs)\n",
    "y_agged = aggregations.__z_score_sum(normalized_ys)\n",
    "print(b_agged)\n",
    "print('')\n",
    "print(y_agged)"
   ]
  },
  {
   "cell_type": "markdown",
   "metadata": {},
   "source": [
    "### Explanation\n",
    "We got the same aggregation here from the padding for both b and y, just reversed which makes sense. This is what we want. Below we'll do one the way its currently running to make a point of it"
   ]
  },
  {
   "cell_type": "code",
   "execution_count": 42,
   "metadata": {},
   "outputs": [
    {
     "name": "stdout",
     "output_type": "stream",
     "text": [
      "[13.113797840011015, -0.9527575573559024, -1.8198739859607125, -1.8198739859607125, -1.8198739859607125, -1.8198739859607125, -1.2417963668908392, -1.8198739859607125, -1.8198739859607125]\n",
      "\n",
      "[2.8504187197371644, -1.6485630655196284, 2.084634586076433, -1.6485630655196284, 1.318850452415703, -1.6485630655196284, 0.5530663187549727, -1.6485630655196284, -0.21271781490575842]\n"
     ]
    }
   ],
   "source": [
    "current_bs = {}\n",
    "current_ys = {}\n",
    "\n",
    "for k in b_scored:\n",
    "    current_bs[k], _ = score_utils.pad_scores(b_scored[k], b_scored['k=4'])\n",
    "    current_ys[k], _ = score_utils.pad_scores(y_scored[k], y_scored['k=4'])\n",
    "    \n",
    "b_agged_current = aggregations.__z_score_sum(current_bs)\n",
    "y_agged_current = aggregations.__z_score_sum(current_ys)\n",
    "print(b_agged_current)\n",
    "print('')\n",
    "print(y_agged_current)"
   ]
  },
  {
   "cell_type": "markdown",
   "metadata": {},
   "source": [
    "We get the same results for the b scores, but the y scores dont make much sense and we cant get much from it. Better to use the correct aggregations"
   ]
  },
  {
   "cell_type": "code",
   "execution_count": null,
   "metadata": {},
   "outputs": [],
   "source": []
  }
 ],
 "metadata": {
  "kernelspec": {
   "display_name": "Python 3",
   "language": "python",
   "name": "python3"
  },
  "language_info": {
   "codemirror_mode": {
    "name": "ipython",
    "version": 3
   },
   "file_extension": ".py",
   "mimetype": "text/x-python",
   "name": "python",
   "nbconvert_exporter": "python",
   "pygments_lexer": "ipython3",
   "version": "3.7.4"
  }
 },
 "nbformat": 4,
 "nbformat_minor": 4
}
