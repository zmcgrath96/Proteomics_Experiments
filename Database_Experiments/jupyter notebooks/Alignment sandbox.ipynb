{
 "cells": [
  {
   "cell_type": "markdown",
   "metadata": {},
   "source": [
    "# Extra needed code"
   ]
  },
  {
   "cell_type": "markdown",
   "metadata": {},
   "source": [
    "## Spectra calculations"
   ]
  },
  {
   "cell_type": "code",
   "execution_count": 5,
   "metadata": {},
   "outputs": [],
   "source": [
    "amino_acids={\n",
    "    \"A\":71.037114,\n",
    "    \"R\":156.101111,\n",
    "    \"N\":114.042927,\n",
    "    \"D\":115.026943,\n",
    "    \"C\":103.009185,\n",
    "    \"E\":129.042593,\n",
    "    \"Q\":128.058578,\n",
    "    \"G\":57.021464,\n",
    "    \"H\":137.058912,\n",
    "    \"I\":113.084064,\n",
    "    \"L\":113.084064,\n",
    "    \"K\":128.094963,\n",
    "    \"M\":131.040485,\n",
    "    \"F\":147.068414,\n",
    "    \"P\":97.052764,\n",
    "    \"S\":87.032028,\n",
    "    \"T\":101.047679,\n",
    "    \"U\":150.95363,\n",
    "    \"W\":186.079313,\n",
    "    \"Y\":163.06332,\n",
    "    \"V\":99.068414\n",
    "}\n",
    "\n",
    "'''calc_masses\n",
    "\n",
    "DESC:\n",
    "    calculates the masses/spectrum for a sequence\n",
    "Inputs:\n",
    "    sequence: str amino acid sequence to change to list of masses\n",
    "    charge: int charge value to calculate masses for\n",
    "Outputs:\n",
    "    list of floats, float       spectrum and the precursor mass \n",
    "'''\n",
    "def calc_masses(sequence, charge):\n",
    "    masses = []\n",
    "\n",
    "    length = len(sequence)\n",
    "    total = 2 * 1.007825035 + 15.99491463 #This is the mass of water. Adding the mass of water to the sum of all the residue masses gives the mass of the peptide.\n",
    "    for i in range(length):\n",
    "        total +=  amino_acids[sequence[i]]\n",
    "\n",
    "    pre_mz = (total+charge*1.0072764)/charge   \n",
    "\n",
    "    if charge == 1:\n",
    "        #b+\n",
    "        total = 1.007825035 - 0.0005486 #for the H to turn the residue NH on the N-terminus into NH2\n",
    "        for i in range (0, length):\n",
    "            total += amino_acids[sequence[i]]\n",
    "            masses.append(total)\n",
    "            #Since z (the charge) is equal to one, the total here is the m/z\n",
    "\n",
    "        #y+\n",
    "        total = 3 * 1.007825035 + 15.99491463 - 0.0005486 #for the OH to turn the residue CO on the C-terminus into COOH + 1 proton to make NH into NH2 and 1 proton make positively charged\n",
    "        for i in range (0,length):\n",
    "            total += amino_acids[sequence[length-i-1]]\n",
    "            masses.append(total)\n",
    "\n",
    "    elif charge == 2:\n",
    "        #b++\n",
    "        total = 2 * 1.007825035 - 2 * 0.0005486 #adding one more proton this time to make it doubly charged\n",
    "        for i in range (0, length):\n",
    "            total += amino_acids[sequence[i]]\n",
    "            masses.append(total/2)\n",
    "\n",
    "        #y++\n",
    "        total = 4 * 1.007825035 + 15.99491463 - 2 * 0.0005486 #another proton to make doubly charged\n",
    "        for i in range (0, length):\n",
    "            total += amino_acids[sequence[length-i-1]]\n",
    "            masses.append(total/2)\n",
    "        #The masses you get exactly match Spectrum Mill. To get this, I had to make sure to use the mass of H+ and the mass of H when appropriate.\n",
    "\n",
    "    return masses, pre_mz"
   ]
  },
  {
   "cell_type": "markdown",
   "metadata": {},
   "source": [
    "## Scoring"
   ]
  },
  {
   "cell_type": "code",
   "execution_count": 6,
   "metadata": {},
   "outputs": [],
   "source": [
    "'''cmp_string_string\n",
    "\n",
    "DESC:\n",
    "    compare the two spectras from two strings\n",
    "    uses simple additive scoring\n",
    "PARAMS:\n",
    "    seq: string sequence of amino acids\n",
    "    ref_seq: string sequence of amino acids\n",
    "RETURNS:\n",
    "    float score from comparison\n",
    "'''\n",
    "def cmp_string_string(seq, ref_seq):\n",
    "    spec1, spec2 = [], []\n",
    "    m11, _ = calc_masses(seq, 1)\n",
    "    m12, _ = calc_masses(seq, 2)\n",
    "    m21, _ = calc_masses(ref_seq, 1)\n",
    "    m22, _ = calc_masses(ref_seq, 2)\n",
    "    spec1 = m11 + m12 \n",
    "    spec2 = m21 + m22 \n",
    "    return cmp_spectra_spectra(spec1, spec2)\n",
    "\n",
    "def cmp_spectra_spectra(spec: list, reference: list) -> float:\n",
    "    '''\n",
    "    CREATED FEB 26 2020\n",
    "    Score two spectra against eachother. Simple additive scoring with bonuses for streaks\n",
    "    Divides by the length of the reference to make it length biased for the reference\n",
    "\n",
    "    Inputs:\n",
    "        spec:       list of floats (from mass spectra)\n",
    "        reference:  list of floats (calculated from protein sequence)\n",
    "    Outputs:\n",
    "        score:      float score \n",
    "    '''\n",
    "    if len(spec) == 0 or len(reference) == 0:\n",
    "        return\n",
    "    streak = 0\n",
    "    last = False\n",
    "    score = 0\n",
    "    max_streak = 0\n",
    "    for mass in spec:\n",
    "        if last == True:\n",
    "            streak += 1\n",
    "            max_streak = max([streak, max_streak])\n",
    "\n",
    "        if mass in reference:\n",
    "            score += 1\n",
    "            last = True\n",
    "\n",
    "        else:\n",
    "            streak = 0\n",
    "            last = False\n",
    "    \n",
    "    score += max_streak\n",
    "    score /= (len(reference) / 2)\n",
    "    return score "
   ]
  },
  {
   "cell_type": "markdown",
   "metadata": {},
   "source": [
    "# Alignments\n",
    "## Data"
   ]
  },
  {
   "cell_type": "code",
   "execution_count": 38,
   "metadata": {},
   "outputs": [],
   "source": [
    "insulin = 'MALWMRLLPLLALLALWGPDPAAAFVNQHLCGSHLVEALYLVCGERGFFYTPKTRREAEDLQVGQVELGGGPGAGSLQPLALEGSLQKRGIVEQCCTSICSLYQLENYCN'\n",
    "peptides = ['AFVNQ', 'AFVNQHLCGS', 'AFVNQHLCGSHLVEA', 'AFVNQHLCGSHLVEALYLVC'] # lengths of 5, 10, 15, 20 \n",
    "pep_starts = [insulin.index(p) for p in peptides]\n",
    "ks = [4, 6, 8, 10, 12, 14, 16, 18, 20]\n",
    "kmers = {}\n",
    "for k in ks:\n",
    "    gen_mers = lambda prot, l: [prot[i:i+l] for i in range(len(prot) - l + 1)]\n",
    "    kmers['k={}'.format(k)] = gen_mers(insulin, k)"
   ]
  },
  {
   "cell_type": "markdown",
   "metadata": {},
   "source": [
    "## Score kmers"
   ]
  },
  {
   "cell_type": "code",
   "execution_count": 39,
   "metadata": {},
   "outputs": [],
   "source": [
    "scores = {}\n",
    "for pep in peptides:\n",
    "    scores[pep] = {}\n",
    "    for k in ks: \n",
    "        kkey = 'k={}'.format(k)\n",
    "        score_mers = lambda pep, mer: [cmp_string_string(m, pep) for m in mer]\n",
    "        scores[pep][kkey] = score_mers(pep, kmers[kkey])"
   ]
  },
  {
   "cell_type": "markdown",
   "metadata": {},
   "source": [
    "## test alignment algorithm Feb 26"
   ]
  },
  {
   "cell_type": "code",
   "execution_count": 40,
   "metadata": {},
   "outputs": [],
   "source": [
    "def make_alignment(estimated_start, pep_scores): # in the actual program, the start prediction comes from the aggregation, but i dont feel like doing that so we'll mock it\n",
    "    # pep scores is a dict {k=3: [], k=4: [], ...}\n",
    "    # go through all of these and find when the scores stop growing\n",
    "    max_score_k = 0\n",
    "    max_score = -10\n",
    "    get_k = lambda sk: int(sk[sk.index('=')+1:])\n",
    "    for ke in pep_scores:\n",
    "        # check to see that the starting position is in the length. If its not, we know the peptide is shorter than that k\n",
    "        if estimated_start > len(pep_scores[ke]):\n",
    "            continue\n",
    "        k = get_k(ke)\n",
    "        max_score, max_score_k = (max_score, max_score_k) if max_score >= pep_scores[ke][estimated_start] else (pep_scores[ke][estimated_start], k)\n",
    "    return max_score_k"
   ]
  },
  {
   "cell_type": "markdown",
   "metadata": {},
   "source": [
    "## run test alignment with data"
   ]
  },
  {
   "cell_type": "code",
   "execution_count": 41,
   "metadata": {},
   "outputs": [
    {
     "name": "stdout",
     "output_type": "stream",
     "text": [
      "estimating alignment for AFVNQ\n",
      "scores at the start position:\n",
      "k=4 score:1.2 | k=6 score:1.5 | k=8 score:1.5 | k=10 score:1.5 | k=12 score:1.5 | k=14 score:1.5 | k=16 score:1.5 | k=18 score:1.5 | k=20 score:1.5 |\n",
      "6\n",
      "estimating alignment for AFVNQHLCGS\n",
      "scores at the start position:\n",
      "k=4 score:0.6 | k=6 score:0.9 | k=8 score:1.2 | k=10 score:3.95 | k=12 score:1.6 | k=14 score:1.5 | k=16 score:1.5 | k=18 score:1.5 | k=20 score:1.5 |\n",
      "10\n",
      "estimating alignment for AFVNQHLCGSHLVEA\n",
      "scores at the start position:\n",
      "k=4 score:0.4 | k=6 score:0.6 | k=8 score:0.8 | k=10 score:1.0 | k=12 score:1.2 | k=14 score:1.4333333333333333 | k=16 score:1.5666666666666667 | k=18 score:1.5 | k=20 score:1.5 |\n",
      "16\n",
      "estimating alignment for AFVNQHLCGSHLVEALYLVC\n",
      "scores at the start position:\n",
      "k=4 score:0.3 | k=6 score:0.45 | k=8 score:0.675 | k=10 score:0.75 | k=12 score:0.9 | k=14 score:1.05 | k=16 score:1.2 | k=18 score:1.35 | k=20 score:3.975 |\n",
      "20\n"
     ]
    }
   ],
   "source": [
    "idx = 0\n",
    "for pep, pscores in scores.items():\n",
    "    print('estimating alignment for {}'.format(pep))\n",
    "    print('scores at the start position:\\n{}'.format(' '.join(['{} score:{} |'.format(str(ke), s[pep_starts[idx]]) for ke, s in pscores.items()])))\n",
    "    print(make_alignment(pep_starts[idx], pscores))\n",
    "    idx += 1\n",
    "    "
   ]
  },
  {
   "cell_type": "markdown",
   "metadata": {},
   "source": [
    "## Hybrid data"
   ]
  },
  {
   "cell_type": "code",
   "execution_count": 3,
   "metadata": {},
   "outputs": [],
   "source": [
    "insulin = 'MALWMRLLPLLALLALWGPDPAAAFVNQHLCGSHLVEALYLVCGERGFFYTPKTRREAEDLQVGQVELGGGPGAGSLQPLALEGSLQKRGIVEQCCTSICSLYQLENYCN'\n",
    "dixin = 'MLACLTRGNLLDVLQEGFNEQQLQAYVAWVNAQLKKRPAVKPVQDLRQDLRDGVILAYLIEIVAGEKLSGVQLSPGNQQEMKNNVEKVLQFVASKKIRMHQTSAKDIVDGNLKSIMRLVLALAAHFKPGSSRTVNQGRDSRAPLQSHRPHCATAVAQGAAAALADVCHDMSRSGRDVFRYRQRNSSMDEEIENPYWSVRALVQQYEGQQRSPSESSCSSLTSPSPIHSAKSESIITQSEEKADFVIIPAEGIENRTEGTDSPLSRDWRPGSPGTYLETSWEEQLLEQQEYLEKEMEEAKKMISGLQALLLNGSLPEDEQERPLALCEPGVNPEEQLIIIQSRLDQSMEENQDLKKELLKCKQEARNLQGIKDALQQRLTQQDTSVLQLKQELLRANMDKDELHNQNVDLQRKLDERNRLLGEYKKELGQKDRLLQQHQAKLEEALRKLSDVSYHQVDLERELEHKDVLLAHCMKREADEATNYNSHNSQSNGFLLPTAGKGATSVSNRGTSDLQLVRDALRSLRNSFSGHDPQHHTIDSLEQGISSLMERLHVMETQKKQERKVRVKSPRTQVGSEYRESWPPNSKLPHSQSSPTVSSTCTKVLYFTDRSLTPFMVNIPKRLEEVTLKDFKAAIDREGNHRYHFKALDPEFGTVKEEIFHDDDAIPGWEGKIVAWVEEDHGEN'\n",
    "hyb_ins_peptides = ['AFV', 'AFVNQ', 'AFVNQHLC', 'AFVNQHLCGS'] # lengths of 3, 5, 8, 10\n",
    "hyb_dixin_peptides = ['QLS', 'QLSPG', 'QLSPGNQQ', 'QLSPGNQQEM'] # lengths of 3, 5, 8, 10\n",
    "\n",
    "ks = [4, 6, 8, 10, 12, 14, 16, 18, 20]\n",
    "\n",
    "# make insulin the left peptide and dixin the right\n",
    "hybrid_peptides = [hyb_ins_peptides[i] + hyb_dixin_peptides[i] for i in range(len(hyb_ins_peptides))]\n",
    "\n",
    "# make kmers for both insulin and dixin\n",
    "ins_kmers = {}\n",
    "dixin_kmers= {}\n",
    "for k in ks:\n",
    "    gen_mers = lambda prot, l: [prot[i:i+l] for i in range(len(prot) - l + 1)]\n",
    "    ins_kmers['k={}'.format(k)] = gen_mers(insulin, k)\n",
    "    dixin_kmers['k={}'.format(k)] = gen_mers(dixin, k)"
   ]
  },
  {
   "cell_type": "markdown",
   "metadata": {},
   "source": [
    "## scoring (feb 26 algorithm)"
   ]
  },
  {
   "cell_type": "code",
   "execution_count": 12,
   "metadata": {},
   "outputs": [],
   "source": [
    "hyb_scores = {}\n",
    "\n",
    "for hp in hybrid_peptides:\n",
    "    hyb_scores[hp] = {}\n",
    "    for k in ks:\n",
    "        kkey = 'k={}'.format(k)\n",
    "        score_mers = lambda pep, mer: [cmp_string_string(m, pep) for m in mer]\n",
    "        if 'insulin' not in hyb_scores[hp]: \n",
    "            hyb_scores[hp]['insulin'] = {}\n",
    "        if 'dixin' not in hyb_scores[hp]: \n",
    "            hyb_scores[hp]['dixin'] = {}\n",
    "        \n",
    "        hyb_scores[hp]['insulin'][kkey] = score_mers(hp, ins_kmers[kkey])\n",
    "        hyb_scores[hp]['dixin'][kkey] = score_mers(hp, dixin_kmers[kkey])\n",
    "     "
   ]
  },
  {
   "cell_type": "markdown",
   "metadata": {},
   "source": [
    "## basic hybrid alignment"
   ]
  },
  {
   "cell_type": "code",
   "execution_count": 17,
   "metadata": {},
   "outputs": [],
   "source": [
    "def make_hybrid_alignment(start_pos_left, start_pos_right, scores):\n",
    "    # we're \"given\" a starting position \n",
    "    # for this case, we know it but in the program we estimate one so its fine for now\n",
    "    # give back the two estimated starting positions and lengths\n",
    "    max_score_k = 0\n",
    "    max_score = -10\n",
    "    alignment = {'left_parent': None, 'right_parent': None}\n",
    "    \n",
    "    # do the left parent first\n",
    "    get_k = lambda sk: int(sk[sk.index('=')+1:])\n",
    "    for ke, s in scores['insulin'].items():\n",
    "        if start_pos_left > len(s):\n",
    "            continue\n",
    "        k = get_k(ke)\n",
    "        max_score, max_score_k = (max_score, max_score_k) if max_score >= s[start_pos_left] else (s[start_pos_left], k)\n",
    " \n",
    "    alignment['left_parent'] = {'parent': 'insulin', 'starting_pos': start_pos_left, 'length': max_score_k}\n",
    "    \n",
    "    # do the right parent\n",
    "    max_score_k = 0\n",
    "    max_score = -10\n",
    "    for ke, s in scores['dixin'].items():\n",
    "        if start_pos_right > len(s):\n",
    "            continue\n",
    "        k = get_k(ke)\n",
    "        max_score, max_score_k = (max_score, max_score_k) if max_score >= pep_scores[ke][start_pos_right] else (pep_scores[ke][start_pos_right], k)\n",
    " \n",
    "    alignment['right_parent'] = {'parent': 'dixin', 'starting_pos': start_pos_right, 'length': max_score_k}\n",
    "    \n",
    "    return alignment"
   ]
  },
  {
   "cell_type": "code",
   "execution_count": 18,
   "metadata": {},
   "outputs": [
    {
     "name": "stdout",
     "output_type": "stream",
     "text": [
      "71\n",
      "23\n"
     ]
    }
   ],
   "source": [
    "print(dixin.index('QLSPGNQQEM'))\n",
    "print(insulin.index('AFVNQHLCGS'))"
   ]
  },
  {
   "cell_type": "markdown",
   "metadata": {},
   "source": [
    "## run hybrid alignment"
   ]
  },
  {
   "cell_type": "code",
   "execution_count": 19,
   "metadata": {},
   "outputs": [
    {
     "name": "stdout",
     "output_type": "stream",
     "text": [
      "Finding alignment for AFVQLS\n"
     ]
    },
    {
     "ename": "NameError",
     "evalue": "name 'pep_scores' is not defined",
     "output_type": "error",
     "traceback": [
      "\u001b[0;31m---------------------------------------------------------------------------\u001b[0m",
      "\u001b[0;31mNameError\u001b[0m                                 Traceback (most recent call last)",
      "\u001b[0;32m<ipython-input-19-038b87dbaba3>\u001b[0m in \u001b[0;36m<module>\u001b[0;34m\u001b[0m\n\u001b[1;32m      1\u001b[0m \u001b[0;32mfor\u001b[0m \u001b[0mhp\u001b[0m \u001b[0;32min\u001b[0m \u001b[0mhybrid_peptides\u001b[0m\u001b[0;34m:\u001b[0m\u001b[0;34m\u001b[0m\u001b[0;34m\u001b[0m\u001b[0m\n\u001b[1;32m      2\u001b[0m     \u001b[0mprint\u001b[0m\u001b[0;34m(\u001b[0m\u001b[0;34m'Finding alignment for {}'\u001b[0m\u001b[0;34m.\u001b[0m\u001b[0mformat\u001b[0m\u001b[0;34m(\u001b[0m\u001b[0mhp\u001b[0m\u001b[0;34m)\u001b[0m\u001b[0;34m)\u001b[0m\u001b[0;34m\u001b[0m\u001b[0;34m\u001b[0m\u001b[0m\n\u001b[0;32m----> 3\u001b[0;31m     \u001b[0malignment\u001b[0m \u001b[0;34m=\u001b[0m \u001b[0mmake_hybrid_alignment\u001b[0m\u001b[0;34m(\u001b[0m\u001b[0;36m23\u001b[0m\u001b[0;34m,\u001b[0m \u001b[0;36m71\u001b[0m\u001b[0;34m,\u001b[0m \u001b[0mhyb_scores\u001b[0m\u001b[0;34m[\u001b[0m\u001b[0mhp\u001b[0m\u001b[0;34m]\u001b[0m\u001b[0;34m)\u001b[0m\u001b[0;34m\u001b[0m\u001b[0;34m\u001b[0m\u001b[0m\n\u001b[0m\u001b[1;32m      4\u001b[0m     \u001b[0mprint\u001b[0m\u001b[0;34m(\u001b[0m\u001b[0;34m'Estimated alignment:'\u001b[0m\u001b[0;34m)\u001b[0m\u001b[0;34m\u001b[0m\u001b[0;34m\u001b[0m\u001b[0m\n\u001b[1;32m      5\u001b[0m     \u001b[0mleft_start\u001b[0m \u001b[0;34m=\u001b[0m \u001b[0malignment\u001b[0m\u001b[0;34m[\u001b[0m\u001b[0;34m'left_parent'\u001b[0m\u001b[0;34m]\u001b[0m\u001b[0;34m[\u001b[0m\u001b[0;34m'starting_pos'\u001b[0m\u001b[0;34m]\u001b[0m\u001b[0;34m\u001b[0m\u001b[0;34m\u001b[0m\u001b[0m\n",
      "\u001b[0;32m<ipython-input-17-f1b2e1fda9d5>\u001b[0m in \u001b[0;36mmake_hybrid_alignment\u001b[0;34m(start_pos_left, start_pos_right, scores)\u001b[0m\n\u001b[1;32m     13\u001b[0m             \u001b[0;32mcontinue\u001b[0m\u001b[0;34m\u001b[0m\u001b[0;34m\u001b[0m\u001b[0m\n\u001b[1;32m     14\u001b[0m         \u001b[0mk\u001b[0m \u001b[0;34m=\u001b[0m \u001b[0mget_k\u001b[0m\u001b[0;34m(\u001b[0m\u001b[0mke\u001b[0m\u001b[0;34m)\u001b[0m\u001b[0;34m\u001b[0m\u001b[0;34m\u001b[0m\u001b[0m\n\u001b[0;32m---> 15\u001b[0;31m         \u001b[0mmax_score\u001b[0m\u001b[0;34m,\u001b[0m \u001b[0mmax_score_k\u001b[0m \u001b[0;34m=\u001b[0m \u001b[0;34m(\u001b[0m\u001b[0mmax_score\u001b[0m\u001b[0;34m,\u001b[0m \u001b[0mmax_score_k\u001b[0m\u001b[0;34m)\u001b[0m \u001b[0;32mif\u001b[0m \u001b[0mmax_score\u001b[0m \u001b[0;34m>=\u001b[0m \u001b[0mpep_scores\u001b[0m\u001b[0;34m[\u001b[0m\u001b[0mke\u001b[0m\u001b[0;34m]\u001b[0m\u001b[0;34m[\u001b[0m\u001b[0mstart_pos_left\u001b[0m\u001b[0;34m]\u001b[0m \u001b[0;32melse\u001b[0m \u001b[0;34m(\u001b[0m\u001b[0mpep_scores\u001b[0m\u001b[0;34m[\u001b[0m\u001b[0mke\u001b[0m\u001b[0;34m]\u001b[0m\u001b[0;34m[\u001b[0m\u001b[0mstart_pos_left\u001b[0m\u001b[0;34m]\u001b[0m\u001b[0;34m,\u001b[0m \u001b[0mk\u001b[0m\u001b[0;34m)\u001b[0m\u001b[0;34m\u001b[0m\u001b[0;34m\u001b[0m\u001b[0m\n\u001b[0m\u001b[1;32m     16\u001b[0m \u001b[0;34m\u001b[0m\u001b[0m\n\u001b[1;32m     17\u001b[0m     \u001b[0malignment\u001b[0m\u001b[0;34m[\u001b[0m\u001b[0;34m'left_parent'\u001b[0m\u001b[0;34m]\u001b[0m \u001b[0;34m=\u001b[0m \u001b[0;34m{\u001b[0m\u001b[0;34m'parent'\u001b[0m\u001b[0;34m:\u001b[0m \u001b[0;34m'insulin'\u001b[0m\u001b[0;34m,\u001b[0m \u001b[0;34m'starting_pos'\u001b[0m\u001b[0;34m:\u001b[0m \u001b[0mstart_pos_left\u001b[0m\u001b[0;34m,\u001b[0m \u001b[0;34m'length'\u001b[0m\u001b[0;34m:\u001b[0m \u001b[0mmax_score_k\u001b[0m\u001b[0;34m}\u001b[0m\u001b[0;34m\u001b[0m\u001b[0;34m\u001b[0m\u001b[0m\n",
      "\u001b[0;31mNameError\u001b[0m: name 'pep_scores' is not defined"
     ]
    }
   ],
   "source": [
    "for hp in hybrid_peptides:\n",
    "    print('Finding alignment for {}'.format(hp))\n",
    "    alignment = make_hybrid_alignment(23, 71, hyb_scores[hp])\n",
    "    print('Estimated alignment:')\n",
    "    left_start = alignment['left_parent']['starting_pos']\n",
    "    left_len = alignment['left_parent']['length']\n",
    "    right_start = alignment['right_parent']['starting_pos']\n",
    "    right_len = alignment['right_parent']['length']\n",
    "    print('{}-{}'.format(insulin[left_start : left_start + left_len]), dixin[right_start: right_start + right_len])"
   ]
  },
  {
   "cell_type": "code",
   "execution_count": null,
   "metadata": {},
   "outputs": [],
   "source": []
  }
 ],
 "metadata": {
  "kernelspec": {
   "display_name": "Python 3",
   "language": "python",
   "name": "python3"
  },
  "language_info": {
   "codemirror_mode": {
    "name": "ipython",
    "version": 3
   },
   "file_extension": ".py",
   "mimetype": "text/x-python",
   "name": "python",
   "nbconvert_exporter": "python",
   "pygments_lexer": "ipython3",
   "version": "3.7.4"
  }
 },
 "nbformat": 4,
 "nbformat_minor": 4
}
