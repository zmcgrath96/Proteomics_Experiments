{
 "cells": [
  {
   "cell_type": "markdown",
   "metadata": {},
   "source": [
    "# Extra needed code"
   ]
  },
  {
   "cell_type": "code",
   "execution_count": 9,
   "metadata": {},
   "outputs": [],
   "source": [
    "amino_acids={\n",
    "    \"A\":71.037114,\n",
    "    \"R\":156.101111,\n",
    "    \"N\":114.042927,\n",
    "    \"D\":115.026943,\n",
    "    \"C\":103.009185,\n",
    "    \"E\":129.042593,\n",
    "    \"Q\":128.058578,\n",
    "    \"G\":57.021464,\n",
    "    \"H\":137.058912,\n",
    "    \"I\":113.084064,\n",
    "    \"L\":113.084064,\n",
    "    \"K\":128.094963,\n",
    "    \"M\":131.040485,\n",
    "    \"F\":147.068414,\n",
    "    \"P\":97.052764,\n",
    "    \"S\":87.032028,\n",
    "    \"T\":101.047679,\n",
    "    \"U\":150.95363,\n",
    "    \"W\":186.079313,\n",
    "    \"Y\":163.06332,\n",
    "    \"V\":99.068414\n",
    "}\n",
    "\n",
    "'''calc_masses\n",
    "\n",
    "DESC:\n",
    "    calculates the masses/spectrum for a sequence\n",
    "Inputs:\n",
    "    sequence: str amino acid sequence to change to list of masses\n",
    "    charge: int charge value to calculate masses for\n",
    "Outputs:\n",
    "    list of floats, float       spectrum and the precursor mass \n",
    "'''\n",
    "def calc_masses(sequence, charge):\n",
    "    masses = []\n",
    "\n",
    "    length = len(sequence)\n",
    "    total = 2 * 1.007825035 + 15.99491463 #This is the mass of water. Adding the mass of water to the sum of all the residue masses gives the mass of the peptide.\n",
    "    for i in range(length):\n",
    "        total +=  amino_acids[sequence[i]]\n",
    "\n",
    "    pre_mz = (total+charge*1.0072764)/charge   \n",
    "\n",
    "    if charge == 1:\n",
    "        #b+\n",
    "        total = 1.007825035 - 0.0005486 #for the H to turn the residue NH on the N-terminus into NH2\n",
    "        for i in range (0, length):\n",
    "            total += amino_acids[sequence[i]]\n",
    "            masses.append(total)\n",
    "            #Since z (the charge) is equal to one, the total here is the m/z\n",
    "\n",
    "        #y+\n",
    "        total = 3 * 1.007825035 + 15.99491463 - 0.0005486 #for the OH to turn the residue CO on the C-terminus into COOH + 1 proton to make NH into NH2 and 1 proton make positively charged\n",
    "        for i in range (0,length):\n",
    "            total += amino_acids[sequence[length-i-1]]\n",
    "            masses.append(total)\n",
    "\n",
    "    elif charge == 2:\n",
    "        #b++\n",
    "        total = 2 * 1.007825035 - 2 * 0.0005486 #adding one more proton this time to make it doubly charged\n",
    "        for i in range (0, length):\n",
    "            total += amino_acids[sequence[i]]\n",
    "            masses.append(total/2)\n",
    "\n",
    "        #y++\n",
    "        total = 4 * 1.007825035 + 15.99491463 - 2 * 0.0005486 #another proton to make doubly charged\n",
    "        for i in range (0, length):\n",
    "            total += amino_acids[sequence[length-i-1]]\n",
    "            masses.append(total/2)\n",
    "        #The masses you get exactly match Spectrum Mill. To get this, I had to make sure to use the mass of H+ and the mass of H when appropriate.\n",
    "\n",
    "    return masses, pre_mz"
   ]
  },
  {
   "cell_type": "code",
   "execution_count": 24,
   "metadata": {},
   "outputs": [],
   "source": [
    "def readfasta(fasta_file):\n",
    "    prots = []\n",
    "    with open(fasta_file, 'r') as i:\n",
    "        name = None \n",
    "        seq = '' \n",
    "        identifier = ''\n",
    "        for line in i:\n",
    "            if '>' in line: #name line\n",
    "\n",
    "                # add the last thing to the list\n",
    "                if not ((name is None or name == '') and (seq is None or seq == '')):\n",
    "                    prots.append({\n",
    "                        'name': name,\n",
    "                        'sequence': seq,\n",
    "                        'identifier': identifier\n",
    "                    })\n",
    "\n",
    "                seq = '' \n",
    "                name = str(str(line.split('|')[2]).split(' ')[0]).replace('\\n', '')\n",
    "                identifier = str(line.split('|')[1])\n",
    "            else:\n",
    "                seq += line.replace('\\n', '')\n",
    "        # add the last one\n",
    "        prots.append({\n",
    "            'name': name,\n",
    "            'sequence': seq,\n",
    "            'identifier': identifier\n",
    "        })\n",
    "    return prots"
   ]
  },
  {
   "cell_type": "code",
   "execution_count": 25,
   "metadata": {},
   "outputs": [],
   "source": [
    "from pyopenms import MSExperiment, MzMLFile\n",
    "\n",
    "'''read\n",
    "\n",
    "DESC:\n",
    "    read an .mzML file into memory\n",
    "Inputs:\n",
    "    file: str path to the file to import\n",
    "Outputs:\n",
    "    NONE if file is not found\n",
    "\n",
    "'''\n",
    "def readmzml(file):\n",
    "\n",
    "    spectra = []\n",
    "    exp = MSExperiment()\n",
    "    MzMLFile().load(file, exp)\n",
    "\n",
    "    for s in exp.getSpectra():\n",
    "        spectra.append({\n",
    "            'level': s.getMSLevel(),\n",
    "            'spectrum': list(list(s.get_peaks())[0]), \n",
    "            'scan_no': int(str(s.getNativeID()).split('=')[-1].replace(\"'\", ''))\n",
    "        })\n",
    "\n",
    "    return spectra"
   ]
  },
  {
   "cell_type": "markdown",
   "metadata": {},
   "source": [
    "# search and score code"
   ]
  },
  {
   "cell_type": "code",
   "execution_count": 28,
   "metadata": {},
   "outputs": [],
   "source": [
    "def search_proteins(spectrum, db):\n",
    "    best_match = {}\n",
    "    for prot in db:\n",
    "        score = cmp_string_spectra(prot['sequence'], spectrum['spectrum'])\n",
    "        if best_match == {} or best_match['score'] < score:\n",
    "            best_match = {\n",
    "                'protein_id': prot['identifier'],\n",
    "                'protein_name': prot['name'], \n",
    "                'protein_sequence': prot['sequence'], \n",
    "                'ms_level': spectrum['level'],\n",
    "                'scan_no': spectrum['scan_no'], \n",
    "                'score': score\n",
    "            }\n",
    "\n",
    "    return best_match"
   ]
  },
  {
   "cell_type": "code",
   "execution_count": 22,
   "metadata": {},
   "outputs": [],
   "source": [
    "def cmp_spectra_spectra(spec: list, reference: list) -> float:\n",
    "    '''\n",
    "    CREATED FEB 26 2020\n",
    "    Score two spectra against eachother. Simple additive scoring with bonuses for streaks\n",
    "\n",
    "    Inputs:\n",
    "        spec:       list of floats (from mass spectra)\n",
    "        reference:  list of floats (calculated from protein sequence)\n",
    "    Outputs:\n",
    "        score:      float score \n",
    "    '''\n",
    "    if len(spec) == 0 or len(reference) == 0:\n",
    "        return\n",
    "    streak = 0\n",
    "    last = False\n",
    "    score = 0\n",
    "    max_streak = 0\n",
    "    for mass in spec:\n",
    "        if last == True:\n",
    "            streak += 1\n",
    "            max_streak = max([streak, max_streak])\n",
    "\n",
    "        if mass in reference:\n",
    "            score += 1\n",
    "            last = True\n",
    "\n",
    "        else:\n",
    "            streak = 0\n",
    "            last = False\n",
    "    \n",
    "    score += max_streak\n",
    "    return score "
   ]
  },
  {
   "cell_type": "code",
   "execution_count": 15,
   "metadata": {},
   "outputs": [],
   "source": [
    "def cmp_string_spectra(seq, ref_spec):\n",
    "    spec1 = []\n",
    "    m1, _ = calc_masses(seq, 1)\n",
    "    m2, _ = calc_masses(seq, 2)\n",
    "    spec1 = m1 + m2\n",
    "    return cmp_spectra_spectra(spec1, ref_spec)"
   ]
  },
  {
   "cell_type": "code",
   "execution_count": 44,
   "metadata": {},
   "outputs": [],
   "source": [
    "fastafile = '/Users/zacharymcgrath/Desktop/Experiment output/DEBUG OUTPUT/databases/peptide_9.fasta'\n",
    "fastadb = readfasta(fastafile)\n",
    "spectrafile_8 = '/Users/zacharymcgrath/Desktop/Experiment output/DEBUG OUTPUT/spectra/insulin_8.mzML'\n",
    "spectrafile_20 = '/Users/zacharymcgrath/Desktop/Experiment output/DEBUG OUTPUT/spectra/insulin_20.mzML'\n",
    "spectra8 = readmzml(spectrafile_8)\n",
    "spectra20 = readmzml(spectrafile_20)"
   ]
  },
  {
   "cell_type": "code",
   "execution_count": 45,
   "metadata": {},
   "outputs": [],
   "source": [
    "res8 = []\n",
    "for s8 in spectra8:\n",
    "    res8.append(search_proteins(s8, fastadb))\n",
    "\n",
    "res20 = []\n",
    "for s20 in spectra20:\n",
    "    res20.append(search_proteins(s20, fastadb))"
   ]
  },
  {
   "cell_type": "code",
   "execution_count": 49,
   "metadata": {},
   "outputs": [],
   "source": [
    "scored_r8 = [x for x in res8 if x['score'] > 0]\n",
    "scored_r20 = [x for x in res20 if x['score'] > 0]"
   ]
  },
  {
   "cell_type": "code",
   "execution_count": 50,
   "metadata": {},
   "outputs": [
    {
     "name": "stdout",
     "output_type": "stream",
     "text": [
      "[(2, 3), (6, 6), (7, 3), (9, 24), (10, 10), (11, 4), (12, 13), (13, 6), (15, 3), (19, 24), (29, 3), (34, 3), (38, 3), (40, 3), (60, 3), (67, 3), (76, 3), (79, 6), (81, 3), (85, 3), (90, 3), (98, 3), (99, 3), (101, 3), (102, 3)]\n",
      "[(2, 3), (6, 6), (7, 57), (8, 5), (9, 54), (10, 10), (11, 4), (12, 13), (13, 6), (15, 3), (29, 3), (34, 3), (38, 3), (40, 3), (60, 3), (67, 3), (76, 3), (79, 6), (81, 3), (85, 3), (87, 3), (90, 5)]\n"
     ]
    }
   ],
   "source": [
    "print([(x['scan_no'], x['score']) for x in scored_r8])\n",
    "print([(x['scan_no'], x['score']) for x in scored_r20])"
   ]
  },
  {
   "cell_type": "code",
   "execution_count": 51,
   "metadata": {},
   "outputs": [],
   "source": [
    "spec8_14 = [x for x in spectra8 if x ['scan_no'] == 14][0]\n",
    "spec20_14 = [x for x in spectra20 if x ['scan_no'] == 14][0]"
   ]
  },
  {
   "cell_type": "code",
   "execution_count": 52,
   "metadata": {},
   "outputs": [
    {
     "name": "stdout",
     "output_type": "stream",
     "text": [
      "{'protein_id': 'id0', 'protein_name': 'peptide_9', 'protein_sequence': 'LLALLALWGPDPAAAFVN', 'ms_level': 2, 'scan_no': 14, 'score': 0}\n"
     ]
    }
   ],
   "source": [
    "print(search_proteins(spec8_14, fastadb))"
   ]
  },
  {
   "cell_type": "code",
   "execution_count": 53,
   "metadata": {},
   "outputs": [
    {
     "name": "stdout",
     "output_type": "stream",
     "text": [
      "{'protein_id': 'id0', 'protein_name': 'peptide_9', 'protein_sequence': 'LLALLALWGPDPAAAFVN', 'ms_level': 2, 'scan_no': 14, 'score': 0}\n"
     ]
    }
   ],
   "source": [
    "print(search_proteins(spec20_14, fastadb))"
   ]
  },
  {
   "cell_type": "code",
   "execution_count": 55,
   "metadata": {},
   "outputs": [
    {
     "name": "stdout",
     "output_type": "stream",
     "text": [
      "{'protein_id': 'id0', 'protein_name': 'peptide_9', 'protein_sequence': 'LLALLALWGPDPAAAFVN', 'ms_level': 2, 'scan_no': 9, 'score': 24}\n",
      "{'protein_id': 'id0', 'protein_name': 'peptide_9', 'protein_sequence': 'LLALLALWGPDPAAAFVN', 'ms_level': 2, 'scan_no': 9, 'score': 54}\n"
     ]
    }
   ],
   "source": [
    "correct_score8 = [x for x in scored_r8 if x['scan_no'] == 9][0]\n",
    "correct_score20 = [x for x in scored_r20 if x['scan_no'] == 9][0]\n",
    "print(correct_score8)\n",
    "print(correct_score20)"
   ]
  },
  {
   "cell_type": "code",
   "execution_count": null,
   "metadata": {},
   "outputs": [],
   "source": []
  }
 ],
 "metadata": {
  "kernelspec": {
   "display_name": "Python 3",
   "language": "python",
   "name": "python3"
  },
  "language_info": {
   "codemirror_mode": {
    "name": "ipython",
    "version": 3
   },
   "file_extension": ".py",
   "mimetype": "text/x-python",
   "name": "python",
   "nbconvert_exporter": "python",
   "pygments_lexer": "ipython3",
   "version": "3.7.4"
  }
 },
 "nbformat": 4,
 "nbformat_minor": 4
}
