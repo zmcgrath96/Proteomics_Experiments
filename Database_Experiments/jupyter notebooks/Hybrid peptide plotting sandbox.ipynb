{
 "cells": [
  {
   "cell_type": "markdown",
   "metadata": {},
   "source": [
    "# Load hybrid peptides and proteins"
   ]
  },
  {
   "cell_type": "code",
   "execution_count": 1,
   "metadata": {},
   "outputs": [],
   "source": [
    "import matplotlib.pyplot as plt\n",
    "import json\n",
    "\n",
    "exp_json = '/Users/zacharymcgrath/Desktop/Experiment output/DEBUG OUTPUT/experiment_data.json'\n",
    "exp = json.load(open(exp_json, 'r'))\n",
    "\n",
    "hybrid_peps = [pep for _, pep in exp['experiment'].items() if 'hybrid' in pep['analysis']['ranks']['correct_protein'].lower()]\n",
    "hybrid_prots = [prot for prot in exp['experiment_info']['proteins'] if 'hybrid' in prot['name'].lower()]"
   ]
  },
  {
   "cell_type": "markdown",
   "metadata": {},
   "source": [
    "# Try plotting range of junction"
   ]
  },
  {
   "cell_type": "code",
   "execution_count": 6,
   "metadata": {},
   "outputs": [],
   "source": [
    "def collect_hyb_peps(peps, hybrid_prot_name):\n",
    "        return [x for x in peps if x['analysis']['ranks']['correct_protein'].lower() == hybrid_prot_name.lower()]\n",
    "    \n",
    "def get_hyb_subseq(hprot, r, jsite):\n",
    "    jsite -= 1\n",
    "    seq = hprot['protein']\n",
    "    return seq[jsite - int(r/2) + 1: jsite + int(r/2) + 1], seq[jsite - int(r/2) + 1:jsite+1], seq[jsite+1:jsite + int(r/2) + 1]"
   ]
  },
  {
   "cell_type": "code",
   "execution_count": 7,
   "metadata": {},
   "outputs": [
    {
     "name": "stdout",
     "output_type": "stream",
     "text": [
      "GWEGKIVAWLGDDEVRTD\n",
      "GWEGKIVAW|LGDDEVRTD\n",
      "GWEGKIVAW\n",
      "LGDDEVRTD\n"
     ]
    }
   ],
   "source": [
    "hp = hybrid_prots[0]\n",
    "jsite = j_site = int(hp['left_parent_end'])\n",
    "hpeps = collect_hyb_peps(hybrid_peps, hp['name'])\n",
    "r = max([p['analysis']['ranks']['sequence_length'] for p in hpeps])\n",
    "hyb_seq, rightseq, leftseq = get_hyb_subseq(hp, r, jsite)\n",
    "print(hyb_seq)\n",
    "m = int(len(hyb_seq)/2)\n",
    "print('{}|{}'.format(hyb_seq[:m], hyb_seq[m:]))\n",
    "print(rightseq)\n",
    "print(leftseq)"
   ]
  },
  {
   "cell_type": "code",
   "execution_count": 43,
   "metadata": {},
   "outputs": [
    {
     "data": {
      "image/png": "[encoded data removed]",
      "text/plain": [
       "<Figure size 720x360 with 3 Axes>"
      ]
     },
     "metadata": {
      "needs_background": "light"
     },
     "output_type": "display_data"
    },
    {
     "data": {
      "image/png": "[encoded data removed]",
      "text/plain": [
       "<Figure size 720x360 with 3 Axes>"
      ]
     },
     "metadata": {
      "needs_background": "light"
     },
     "output_type": "display_data"
    }
   ],
   "source": [
    "from statistics import median\n",
    "\n",
    "def peps_v_prots(hprot, hpeps, jsite):\n",
    "    lp_name = hprot['left_parent_name']\n",
    "    lp_seq = hprot['left_parent_sequence']\n",
    "    rp_name = hprot['right_parent_name']\n",
    "    rp_seq = hprot['right_parent_sequence']\n",
    "    \n",
    "    fig, axs = plt.subplots(nrows=3, figsize=(10,5))\n",
    "    r = max([p['analysis']['ranks']['sequence_length'] for p in hpeps])\n",
    "    hybseq, left_seq, right_seq = get_hyb_subseq(hprot, r, jsite)\n",
    "    \n",
    "    ranks = [x['analysis']['ranks']['ranks']['z_score_sum'] for x in hpeps]\n",
    "    pos = [hybseq.index(x['analysis']['ranks']['sequence']) for x in hpeps]\n",
    "    \n",
    "    t = [[] for i in range(max(pos) + 1)]\n",
    "    for i in range(len(ranks)):\n",
    "        t[pos[i]].append(ranks[i])\n",
    "        \n",
    "    med_ranks = [-1 for _ in range(len(hybseq))]\n",
    "    for i, x in enumerate(t):\n",
    "        med_ranks[i] = median(x)\n",
    "            \n",
    "    # do the hybrid subplot\n",
    "    axs[0].scatter(range(0, len(hybseq)), med_ranks)\n",
    "    axs[0].set_xticks(range(0, len(hybseq)))\n",
    "    axs[0].set_xticklabels(hybseq)\n",
    "    axs[0].set_ylim([0,None])\n",
    "    # color each parent\n",
    "    for i, xtick in enumerate(axs[0].get_xticklabels()):\n",
    "        if i < len(left_seq):\n",
    "            xtick.set_color('red')\n",
    "        else:\n",
    "            xtick.set_color('blue')\n",
    "            \n",
    "    # do the left parent subplot\n",
    "    axs[1].scatter(range(0, len(left_seq)), med_ranks[:len(left_seq)])\n",
    "    axs[1].set_xticks(range(0, len(left_seq)))\n",
    "    axs[1].set_xticklabels(left_seq)\n",
    "    axs[1].tick_params(axis='x', colors='red')\n",
    "    axs[1].set_ylim([0,None])\n",
    "    \n",
    "    # do the right parent subplot\n",
    "    axs[2].scatter(range(0, len(right_seq)), med_ranks[len(left_seq):])\n",
    "    axs[2].set_xticks(range(0, len(right_seq)))\n",
    "    axs[2].set_xticklabels(right_seq)\n",
    "    axs[2].tick_params(axis='x', colors='blue')\n",
    "    axs[2].set_ylim([0,None])\n",
    "    \n",
    "    #set common labels\n",
    "    plt.xlabel('sequence')\n",
    "    plt.ylabel('median rank')\n",
    "    fig.suptitle(hprot['name'])\n",
    "    \n",
    "\n",
    "for hpr in hybrid_prots: \n",
    "    these_hpeps = collect_hyb_peps(hybrid_peps, hpr['name'])\n",
    "    j_site = int(hpr['left_parent_end'])\n",
    "    peps_v_prots(hpr, these_hpeps, j_site)\n",
    "    "
   ]
  },
  {
   "cell_type": "code",
   "execution_count": null,
   "metadata": {},
   "outputs": [],
   "source": []
  },
  {
   "cell_type": "code",
   "execution_count": null,
   "metadata": {},
   "outputs": [],
   "source": []
  }
 ],
 "metadata": {
  "kernelspec": {
   "display_name": "Python 3",
   "language": "python",
   "name": "python3"
  },
  "language_info": {
   "codemirror_mode": {
    "name": "ipython",
    "version": 3
   },
   "file_extension": ".py",
   "mimetype": "text/x-python",
   "name": "python",
   "nbconvert_exporter": "python",
   "pygments_lexer": "ipython3",
   "version": "3.7.4"
  }
 },
 "nbformat": 4,
 "nbformat_minor": 4
}
