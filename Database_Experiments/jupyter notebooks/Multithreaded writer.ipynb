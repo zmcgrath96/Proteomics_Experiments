{
 "cells": [
  {
   "cell_type": "code",
   "execution_count": 9,
   "metadata": {},
   "outputs": [],
   "source": [
    "import threading, queue, random, copy, time\n",
    "\n",
    "def write(stuff, filename):\n",
    "    with open(filename, 'w') as o:\n",
    "        o.write(str(stuff))\n",
    "    return filename\n",
    "\n",
    "def threaded_write(q, filelist):\n",
    "    while True:\n",
    "        if not q.empty():\n",
    "            stuff, filename = q.get()\n",
    "            if stuff is None and filename is None: \n",
    "                break\n",
    "            fname = write(stuff, filename)\n",
    "            print('finished a write for {}'.format(fname))\n",
    "            filelist.append(fname)\n",
    "            q.task_done()\n",
    "        else: \n",
    "            time.sleep(0.005)\n",
    "\n",
    "def processing_stuff():\n",
    "    q = queue.Queue()\n",
    "    flist = []\n",
    "    wt = threading.Thread(target=threaded_write, args=(q, flist))\n",
    "    wt.start()\n",
    "    for x in range(random.randint(0, 10)):\n",
    "        print('doing stuff {}'.format(x))\n",
    "        this_stuff = []\n",
    "        for y in range(random.randint(0, 10000)):\n",
    "            this_stuff.append(x)\n",
    "        print('putting stuff in the queue {}'.format(x))\n",
    "        q.put((copy.deepcopy(this_stuff), '/Users/zacharymcgrath/Desktop/thread_write/this_stuff_{}'.format(x)))\n",
    "    # block till writting done\n",
    "    print('waiting on q')\n",
    "    q.join()\n",
    "    print('waiting on threads')\n",
    "    q.put((None, None))\n",
    "    wt.join()\n",
    "    print('files written: \\n {}'.format(flist))\n",
    "        \n",
    "        "
   ]
  },
  {
   "cell_type": "code",
   "execution_count": 10,
   "metadata": {},
   "outputs": [
    {
     "name": "stdout",
     "output_type": "stream",
     "text": [
      "doing stuff 0\n",
      "putting stuff in the queue 0\n",
      "doing stuff 1\n",
      "putting stuff in the queue 1\n",
      "doing stuff 2\n",
      "putting stuff in the queue 2\n",
      "doing stuff 3\n",
      "putting stuff in the queue 3\n",
      "doing stuff 4\n",
      "putting stuff in the queue 4\n",
      "doing stuff 5\n",
      "putting stuff in the queue 5\n",
      "waiting on q\n",
      "finished a write for /Users/zacharymcgrath/Desktop/thread_write/this_stuff_0\n",
      "finished a write for /Users/zacharymcgrath/Desktop/thread_write/this_stuff_1\n",
      "finished a write for /Users/zacharymcgrath/Desktop/thread_write/this_stuff_2\n",
      "finished a write for /Users/zacharymcgrath/Desktop/thread_write/this_stuff_3\n",
      "finished a write for /Users/zacharymcgrath/Desktop/thread_write/this_stuff_4\n",
      "finished a write for /Users/zacharymcgrath/Desktop/thread_write/this_stuff_5\n",
      "waiting on threads\n",
      "files written: \n",
      " ['/Users/zacharymcgrath/Desktop/thread_write/this_stuff_0', '/Users/zacharymcgrath/Desktop/thread_write/this_stuff_1', '/Users/zacharymcgrath/Desktop/thread_write/this_stuff_2', '/Users/zacharymcgrath/Desktop/thread_write/this_stuff_3', '/Users/zacharymcgrath/Desktop/thread_write/this_stuff_4', '/Users/zacharymcgrath/Desktop/thread_write/this_stuff_5']\n"
     ]
    }
   ],
   "source": [
    "processing_stuff()"
   ]
  },
  {
   "cell_type": "code",
   "execution_count": null,
   "metadata": {},
   "outputs": [],
   "source": []
  },
  {
   "cell_type": "code",
   "execution_count": null,
   "metadata": {},
   "outputs": [],
   "source": []
  }
 ],
 "metadata": {
  "kernelspec": {
   "display_name": "Python 3",
   "language": "python",
   "name": "python3"
  },
  "language_info": {
   "codemirror_mode": {
    "name": "ipython",
    "version": 3
   },
   "file_extension": ".py",
   "mimetype": "text/x-python",
   "name": "python",
   "nbconvert_exporter": "python",
   "pygments_lexer": "ipython3",
   "version": "3.7.4"
  }
 },
 "nbformat": 4,
 "nbformat_minor": 4
}
