{
 "cells": [
  {
   "cell_type": "markdown",
   "metadata": {},
   "source": [
    "# Determine peptide length distribution"
   ]
  },
  {
   "cell_type": "code",
   "execution_count": 90,
   "metadata": {},
   "outputs": [
    {
     "name": "stdout",
     "output_type": "stream",
     "text": [
      "4301\n",
      "highest value: 460\n",
      "argmax: 9\n"
     ]
    },
    {
     "data": {
      "text/plain": [
       "(array([  0.,   0.,   0.,   0.,   2.,  71., 186., 318., 388., 460., 389.,\n",
       "        438., 412., 307., 277., 240., 178., 153., 107.,  89.,  68.,  51.,\n",
       "         44.,  39.,  22.,  23.,  18.,   6.,   5.,   6.,   1.,   0.,   3.,\n",
       "          0.,   0.,   0.,   0.,   0.,   0.]),\n",
       " array([ 0,  1,  2,  3,  4,  5,  6,  7,  8,  9, 10, 11, 12, 13, 14, 15, 16,\n",
       "        17, 18, 19, 20, 21, 22, 23, 24, 25, 26, 27, 28, 29, 30, 31, 32, 33,\n",
       "        34, 35, 36, 37, 38, 39]),\n",
       " <a list of 39 Patch objects>)"
      ]
     },
     "execution_count": 90,
     "metadata": {},
     "output_type": "execute_result"
    },
    {
     "data": {
      "image/png": "[encoded data removed]",
      "text/plain": [
       "<Figure size 432x288 with 1 Axes>"
      ]
     },
     "metadata": {
      "needs_background": "light"
     },
     "output_type": "display_data"
    }
   ],
   "source": [
    "import pandas as pd\n",
    "import matplotlib.pyplot as plt\n",
    "import scipy\n",
    "import scipy.stats\n",
    "import numpy as np\n",
    "\n",
    "sequence_col = 'Peptide'\n",
    "score_col = 'Denovo Score'\n",
    "length_col = 'Tag Length'\n",
    "\n",
    "def load_experiment_file(file):\n",
    "    return pd.read_csv(file)\n",
    "\n",
    "# load the file\n",
    "experiment_file = '/Users/zacharymcgrath/Downloads/hela de novo peptides.csv'\n",
    "df = load_experiment_file(experiment_file)\n",
    "\n",
    "# get length information\n",
    "lengths = list(df[length_col])\n",
    "print(len(lengths))\n",
    "length_data = [0 for x in range(max(lengths) + 1)]\n",
    "for x in lengths:\n",
    "    length_data[x] += 1\n",
    "    \n",
    "print('highest value: {}'.format(max(length_data)))\n",
    "print('argmax: {}'.format(np.argmax(length_data)))\n",
    "# plot histogram of the length data\n",
    "plt.hist(lengths, bins=range(0, 40))\n",
    "\n",
    "    "
   ]
  },
  {
   "cell_type": "code",
   "execution_count": 91,
   "metadata": {},
   "outputs": [
    {
     "name": "stdout",
     "output_type": "stream",
     "text": [
      "4301\n",
      "highest value: 460\n",
      "argmax: 9\n"
     ]
    },
    {
     "data": {
      "text/plain": [
       "(array([  0.,   0.,   0.,   0.,   2.,  71., 186., 318., 388., 460., 389.,\n",
       "        438., 412., 307., 277., 240., 178., 153., 107.,  89.,  68.,  51.,\n",
       "         44.,  39.,  22.,  23.,  18.,   6.,   5.,   6.,   1.,   0.,   3.,\n",
       "          0.,   0.,   0.,   0.,   0.,   0.]),\n",
       " array([ 0,  1,  2,  3,  4,  5,  6,  7,  8,  9, 10, 11, 12, 13, 14, 15, 16,\n",
       "        17, 18, 19, 20, 21, 22, 23, 24, 25, 26, 27, 28, 29, 30, 31, 32, 33,\n",
       "        34, 35, 36, 37, 38, 39]),\n",
       " <a list of 39 Patch objects>)"
      ]
     },
     "execution_count": 91,
     "metadata": {},
     "output_type": "execute_result"
    },
    {
     "data": {
      "image/png": "[encoded data removed]",
      "text/plain": [
       "<Figure size 432x288 with 1 Axes>"
      ]
     },
     "metadata": {
      "needs_background": "light"
     },
     "output_type": "display_data"
    }
   ],
   "source": [
    "# filter out scores < thresh\n",
    "thresh = 49\n",
    "\n",
    "lengths = list(df.loc[df[score_col] > thresh][length_col])\n",
    "\n",
    "# get length information\n",
    "print(len(lengths))\n",
    "length_data = [0 for x in range(max(lengths) + 1)]\n",
    "for x in lengths:\n",
    "    length_data[x] += 1\n",
    "    \n",
    "print('highest value: {}'.format(max(length_data)))\n",
    "print('argmax: {}'.format(np.argmax(length_data)))\n",
    "# plot histogram of the length data\n",
    "plt.hist(lengths, bins=range(0, 40))"
   ]
  },
  {
   "cell_type": "markdown",
   "metadata": {},
   "source": [
    "# Test distribution generation"
   ]
  },
  {
   "cell_type": "code",
   "execution_count": 92,
   "metadata": {},
   "outputs": [
    {
     "data": {
      "text/plain": [
       "(array([  0.,   0.,   0.,  59., 167., 269., 348., 360., 383., 374., 328.,\n",
       "        298., 302., 229., 187., 155., 153., 108.,  96.,  64.,  34.,  40.,\n",
       "         14.,  16.,   7.,   6.,   2.,   1.,   0.,   0.,   0.,   0.,   0.,\n",
       "          0.,   0.,   0.]),\n",
       " array([ 0,  1,  2,  3,  4,  5,  6,  7,  8,  9, 10, 11, 12, 13, 14, 15, 16,\n",
       "        17, 18, 19, 20, 21, 22, 23, 24, 25, 26, 27, 28, 29, 30, 31, 32, 33,\n",
       "        34, 35, 36]),\n",
       " <a list of 36 Patch objects>)"
      ]
     },
     "execution_count": 92,
     "metadata": {},
     "output_type": "execute_result"
    },
    {
     "data": {
      "image/png": "[encoded data removed]",
      "text/plain": [
       "<Figure size 432x288 with 1 Axes>"
      ]
     },
     "metadata": {
      "needs_background": "light"
     },
     "output_type": "display_data"
    }
   ],
   "source": [
    "a = 2.3\n",
    "b = 7\n",
    "x = 3\n",
    "y = 35\n",
    "z = x + (np.random.beta(a, b, size=(4000)) * (y - x))\n",
    "plt.hist(z, bins=range(0, 37))"
   ]
  },
  {
   "cell_type": "markdown",
   "metadata": {},
   "source": [
    "# Verify Peptide length distribution"
   ]
  },
  {
   "cell_type": "code",
   "execution_count": 94,
   "metadata": {},
   "outputs": [
    {
     "data": {
      "text/plain": [
       "(array([ 0.,  0.,  0.,  0.,  6.,  9., 10., 13., 15., 16., 20., 18., 14.,\n",
       "        12., 11.,  8.,  6.,  5.,  2.,  0.,  1.,  0.,  0.,  0.,  0.,  0.,\n",
       "         0.,  0.,  0.,  0.,  0.,  0.,  0.,  0.,  0.,  0.,  0.]),\n",
       " array([ 0,  1,  2,  3,  4,  5,  6,  7,  8,  9, 10, 11, 12, 13, 14, 15, 16,\n",
       "        17, 18, 19, 20, 21, 22, 23, 24, 25, 26, 27, 28, 29, 30, 31, 32, 33,\n",
       "        34, 35, 36, 37]),\n",
       " <a list of 37 Patch objects>)"
      ]
     },
     "execution_count": 94,
     "metadata": {},
     "output_type": "execute_result"
    },
    {
     "data": {
      "image/png": "[encoded data removed]",
      "text/plain": [
       "<Figure size 432x288 with 1 Axes>"
      ]
     },
     "metadata": {
      "needs_background": "light"
     },
     "output_type": "display_data"
    }
   ],
   "source": [
    "import json\n",
    "\n",
    "exp_json_file = '/Users/zacharymcgrath/Desktop/Experiment output/DEBUG OUTPUT/experiment_data.json'\n",
    "exp = json.load(open(exp_json_file, 'r'))\n",
    "\n",
    "peps = exp['experiment_info']['peptides']\n",
    "ls = [len(x['peptide_sequence']) for x in peps]\n",
    "plt.hist(ls, bins=range(0, 38))"
   ]
  },
  {
   "cell_type": "code",
   "execution_count": null,
   "metadata": {},
   "outputs": [],
   "source": []
  },
  {
   "cell_type": "code",
   "execution_count": null,
   "metadata": {},
   "outputs": [],
   "source": []
  }
 ],
 "metadata": {
  "kernelspec": {
   "display_name": "Python 3",
   "language": "python",
   "name": "python3"
  },
  "language_info": {
   "codemirror_mode": {
    "name": "ipython",
    "version": 3
   },
   "file_extension": ".py",
   "mimetype": "text/x-python",
   "name": "python",
   "nbconvert_exporter": "python",
   "pygments_lexer": "ipython3",
   "version": "3.7.4"
  }
 },
 "nbformat": 4,
 "nbformat_minor": 4
}
