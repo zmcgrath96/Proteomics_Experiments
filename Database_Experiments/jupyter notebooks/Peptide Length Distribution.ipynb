{
 "cells": [
  {
   "cell_type": "markdown",
   "metadata": {},
   "source": [
    "# Determine peptide length distribution"
   ]
  },
  {
   "cell_type": "code",
   "execution_count": 46,
   "metadata": {},
   "outputs": [
    {
     "name": "stdout",
     "output_type": "stream",
     "text": [
      "4301\n",
      "highest value: 460\n",
      "argmax: 9\n"
     ]
    },
    {
     "data": {
      "text/plain": [
       "(array([  0.,   0.,   0.,   0.,   2.,  71., 186., 318., 388., 460., 389.,\n",
       "        438., 412., 307., 277., 240., 178., 153., 107.,  89.,  68.,  51.,\n",
       "         44.,  39.,  22.,  23.,  18.,   6.,   5.,   6.,   1.,   0.,   3.,\n",
       "          0.,   0.,   0.,   0.,   0.,   0.]),\n",
       " array([ 0,  1,  2,  3,  4,  5,  6,  7,  8,  9, 10, 11, 12, 13, 14, 15, 16,\n",
       "        17, 18, 19, 20, 21, 22, 23, 24, 25, 26, 27, 28, 29, 30, 31, 32, 33,\n",
       "        34, 35, 36, 37, 38, 39]),\n",
       " <a list of 39 Patch objects>)"
      ]
     },
     "execution_count": 46,
     "metadata": {},
     "output_type": "execute_result"
    },
    {
     "data": {
      "image/png": "[encoded data removed]",
      "text/plain": [
       "<Figure size 432x288 with 1 Axes>"
      ]
     },
     "metadata": {
      "needs_background": "light"
     },
     "output_type": "display_data"
    }
   ],
   "source": [
    "import pandas as pd\n",
    "import matplotlib.pyplot as plt\n",
    "import scipy\n",
    "import scipy.stats\n",
    "import numpy as np\n",
    "\n",
    "sequence_col = 'Peptide'\n",
    "score_col = 'Denovo Score'\n",
    "length_col = 'Tag Length'\n",
    "\n",
    "def load_experiment_file(file):\n",
    "    return pd.read_csv(file)\n",
    "\n",
    "# load the file\n",
    "experiment_file = '/Users/zacharymcgrath/Downloads/de novo peptides (1).csv'\n",
    "df = load_experiment_file(experiment_file)\n",
    "\n",
    "# get length information\n",
    "lengths = list(df[length_col])\n",
    "print(len(lengths))\n",
    "length_data = [0 for x in range(max(lengths) + 1)]\n",
    "for x in lengths:\n",
    "    length_data[x] += 1\n",
    "    \n",
    "print('highest value: {}'.format(max(length_data)))\n",
    "print('argmax: {}'.format(np.argmax(length_data)))\n",
    "# plot histogram of the length data\n",
    "plt.hist(lengths, bins=range(0, 40))\n",
    "\n",
    "    "
   ]
  },
  {
   "cell_type": "code",
   "execution_count": 38,
   "metadata": {},
   "outputs": [
    {
     "name": "stdout",
     "output_type": "stream",
     "text": [
      "6116\n",
      "highest value: 448\n",
      "argmax: 12\n"
     ]
    },
    {
     "data": {
      "text/plain": [
       "(array([  0.,   0.,   0.,   0.,   6.,  70., 243., 414., 416., 432., 429.,\n",
       "        431., 448., 377., 318., 308., 263., 202., 152., 168., 152., 396.,\n",
       "        220., 119.,  81.,  78.,  60.,  54.,  51.,  56.,  63.,  48.,  30.,\n",
       "         14.,   5.,   6.,   2.,   1.,   3.]),\n",
       " array([ 0,  1,  2,  3,  4,  5,  6,  7,  8,  9, 10, 11, 12, 13, 14, 15, 16,\n",
       "        17, 18, 19, 20, 21, 22, 23, 24, 25, 26, 27, 28, 29, 30, 31, 32, 33,\n",
       "        34, 35, 36, 37, 38, 39]),\n",
       " <a list of 39 Patch objects>)"
      ]
     },
     "execution_count": 38,
     "metadata": {},
     "output_type": "execute_result"
    },
    {
     "data": {
      "image/png": "[encoded data removed]",
      "text/plain": [
       "<Figure size 432x288 with 1 Axes>"
      ]
     },
     "metadata": {
      "needs_background": "light"
     },
     "output_type": "display_data"
    }
   ],
   "source": [
    "# filter out scores < thresh\n",
    "thresh = 49\n",
    "\n",
    "lengths = list(df.loc[df[score_col] > thresh][length_col])\n",
    "\n",
    "# get length information\n",
    "print(len(lengths))\n",
    "length_data = [0 for x in range(max(lengths) + 1)]\n",
    "for x in lengths:\n",
    "    length_data[x] += 1\n",
    "    \n",
    "print('highest value: {}'.format(max(length_data)))\n",
    "print('argmax: {}'.format(np.argmax(length_data)))\n",
    "# plot histogram of the length data\n",
    "plt.hist(lengths, bins=range(0, 40))"
   ]
  },
  {
   "cell_type": "code",
   "execution_count": 76,
   "metadata": {},
   "outputs": [
    {
     "data": {
      "text/plain": [
       "(array([  0.,   0.,   0.,  49., 170., 255., 312., 386., 355., 406., 367.,\n",
       "        310., 252., 242., 207., 168., 135., 108.,  96.,  54.,  47.,  26.,\n",
       "         15.,  16.,   4.,   9.,   4.,   4.,   1.,   1.,   1.,   0.,   0.,\n",
       "          0.,   0.,   0.]),\n",
       " array([ 0,  1,  2,  3,  4,  5,  6,  7,  8,  9, 10, 11, 12, 13, 14, 15, 16,\n",
       "        17, 18, 19, 20, 21, 22, 23, 24, 25, 26, 27, 28, 29, 30, 31, 32, 33,\n",
       "        34, 35, 36]),\n",
       " <a list of 36 Patch objects>)"
      ]
     },
     "execution_count": 76,
     "metadata": {},
     "output_type": "execute_result"
    },
    {
     "data": {
      "image/png": "[encoded data removed]",
      "text/plain": [
       "<Figure size 432x288 with 1 Axes>"
      ]
     },
     "metadata": {
      "needs_background": "light"
     },
     "output_type": "display_data"
    }
   ],
   "source": [
    "a = 2.3\n",
    "b = 7\n",
    "x = 3\n",
    "y = 35\n",
    "z = x + (np.random.beta(a, b, size=(4000)) * (y - x))\n",
    "plt.hist(z, bins=range(0, 37))"
   ]
  },
  {
   "cell_type": "markdown",
   "metadata": {},
   "source": [
    "# Verify Peptide length distribution"
   ]
  },
  {
   "cell_type": "code",
   "execution_count": 88,
   "metadata": {},
   "outputs": [
    {
     "data": {
      "text/plain": [
       "(array([  0.,   0.,   0.,   0.,  67., 279., 397., 546., 611., 613., 654.,\n",
       "        602., 510., 427., 398., 300., 273., 186., 175., 109.,  82.,  55.,\n",
       "         49.,  29.,  15.,   7.,   4.,   1.,   1.,   0.,   0.,   0.,   0.,\n",
       "          0.,   0.,   0.,   0.]),\n",
       " array([ 0,  1,  2,  3,  4,  5,  6,  7,  8,  9, 10, 11, 12, 13, 14, 15, 16,\n",
       "        17, 18, 19, 20, 21, 22, 23, 24, 25, 26, 27, 28, 29, 30, 31, 32, 33,\n",
       "        34, 35, 36, 37]),\n",
       " <a list of 37 Patch objects>)"
      ]
     },
     "execution_count": 88,
     "metadata": {},
     "output_type": "execute_result"
    },
    {
     "data": {
      "image/png": "[encoded data removed]",
      "text/plain": [
       "<Figure size 432x288 with 1 Axes>"
      ]
     },
     "metadata": {
      "needs_background": "light"
     },
     "output_type": "display_data"
    }
   ],
   "source": [
    "import json\n",
    "\n",
    "exp_json_file = '/Users/zacharymcgrath/Desktop/Experiment output/TEST DISTRIBUTION GEN/experiment_data.json'\n",
    "exp = json.load(open(exp_json_file, 'r'))\n",
    "\n",
    "peps = exp['experiment_info']['peptides']\n",
    "ls = [len(x['peptide_sequence']) for x in peps]\n",
    "plt.hist(ls, bins=range(0, 38))"
   ]
  },
  {
   "cell_type": "code",
   "execution_count": null,
   "metadata": {},
   "outputs": [],
   "source": []
  },
  {
   "cell_type": "code",
   "execution_count": null,
   "metadata": {},
   "outputs": [],
   "source": []
  }
 ],
 "metadata": {
  "kernelspec": {
   "display_name": "Python 3",
   "language": "python",
   "name": "python3"
  },
  "language_info": {
   "codemirror_mode": {
    "name": "ipython",
    "version": 3
   },
   "file_extension": ".py",
   "mimetype": "text/x-python",
   "name": "python",
   "nbconvert_exporter": "python",
   "pygments_lexer": "ipython3",
   "version": "3.7.4"
  }
 },
 "nbformat": 4,
 "nbformat_minor": 4
}
