{
 "cells": [
  {
   "cell_type": "markdown",
   "metadata": {},
   "source": [
    "# Convert SpectrumMill ssv results to experiment json\n",
    "\n",
    "### Load ssv file into pandas df (because its easy)"
   ]
  },
  {
   "cell_type": "code",
   "execution_count": 1,
   "metadata": {},
   "outputs": [
    {
     "data": {
      "text/html": [
       "<div>\n",
       "<style scoped>\n",
       "    .dataframe tbody tr th:only-of-type {\n",
       "        vertical-align: middle;\n",
       "    }\n",
       "\n",
       "    .dataframe tbody tr th {\n",
       "        vertical-align: top;\n",
       "    }\n",
       "\n",
       "    .dataframe thead th {\n",
       "        text-align: right;\n",
       "    }\n",
       "</style>\n",
       "<table border=\"1\" class=\"dataframe\">\n",
       "  <thead>\n",
       "    <tr style=\"text-align: right;\">\n",
       "      <th></th>\n",
       "      <th>number</th>\n",
       "      <th>filename</th>\n",
       "      <th>parent_charge</th>\n",
       "      <th>score</th>\n",
       "      <th>deltaForwardReverseScore</th>\n",
       "      <th>deltaRank1Rank2Score</th>\n",
       "      <th>percent_scored_peak_intensity</th>\n",
       "      <th>totalIntensity</th>\n",
       "      <th>previous_aa</th>\n",
       "      <th>sequence</th>\n",
       "      <th>next_aa</th>\n",
       "      <th>retentionTimeMin</th>\n",
       "      <th>chromatographicPeakWidthSec</th>\n",
       "      <th>parent_m_over_z</th>\n",
       "      <th>species</th>\n",
       "      <th>entry_name</th>\n",
       "    </tr>\n",
       "  </thead>\n",
       "  <tbody>\n",
       "    <tr>\n",
       "      <td>0</td>\n",
       "      <td>1</td>\n",
       "      <td>NOD2_E3.13446.13477.2</td>\n",
       "      <td>2</td>\n",
       "      <td>10.10</td>\n",
       "      <td>10.10</td>\n",
       "      <td>9.91</td>\n",
       "      <td>84.5</td>\n",
       "      <td>183000.0</td>\n",
       "      <td>(E)</td>\n",
       "      <td>DPQVEQLEL</td>\n",
       "      <td>(-)</td>\n",
       "      <td>48.35</td>\n",
       "      <td>26.0</td>\n",
       "      <td>535.7725</td>\n",
       "      <td>MOUSE</td>\n",
       "      <td>ins1C18</td>\n",
       "    </tr>\n",
       "    <tr>\n",
       "      <td>1</td>\n",
       "      <td>2</td>\n",
       "      <td>NOD2_E3.18005.18246.2</td>\n",
       "      <td>2</td>\n",
       "      <td>12.84</td>\n",
       "      <td>11.07</td>\n",
       "      <td>12.84</td>\n",
       "      <td>97.8</td>\n",
       "      <td>40000000.0</td>\n",
       "      <td>(G)</td>\n",
       "      <td>DLQTLALEVA</td>\n",
       "      <td>(-)</td>\n",
       "      <td>65.78</td>\n",
       "      <td>29.0</td>\n",
       "      <td>536.8007</td>\n",
       "      <td>MOUSE</td>\n",
       "      <td>ins1C3</td>\n",
       "    </tr>\n",
       "  </tbody>\n",
       "</table>\n",
       "</div>"
      ],
      "text/plain": [
       "   number               filename  parent_charge  score  \\\n",
       "0       1  NOD2_E3.13446.13477.2              2  10.10   \n",
       "1       2  NOD2_E3.18005.18246.2              2  12.84   \n",
       "\n",
       "   deltaForwardReverseScore  deltaRank1Rank2Score  \\\n",
       "0                     10.10                  9.91   \n",
       "1                     11.07                 12.84   \n",
       "\n",
       "   percent_scored_peak_intensity  totalIntensity previous_aa    sequence  \\\n",
       "0                           84.5        183000.0         (E)   DPQVEQLEL   \n",
       "1                           97.8      40000000.0         (G)  DLQTLALEVA   \n",
       "\n",
       "  next_aa  retentionTimeMin  chromatographicPeakWidthSec  parent_m_over_z  \\\n",
       "0     (-)             48.35                         26.0         535.7725   \n",
       "1     (-)             65.78                         29.0         536.8007   \n",
       "\n",
       "  species entry_name  \n",
       "0   MOUSE    ins1C18  \n",
       "1   MOUSE     ins1C3  "
      ]
     },
     "execution_count": 1,
     "metadata": {},
     "output_type": "execute_result"
    }
   ],
   "source": [
    "import pandas as pd\n",
    "\n",
    "results_file = '/Users/zacharymcgrath/Downloads/NOD2_E3_results.ssv'\n",
    "df = pd.read_csv(results_file, ';')\n",
    "df.head(2)"
   ]
  },
  {
   "cell_type": "code",
   "execution_count": 2,
   "metadata": {},
   "outputs": [],
   "source": [
    "SEQUENCE_COL_NAME = 'sequence'\n",
    "PARENT_PROTEIN_NAME = 'entry_name'"
   ]
  },
  {
   "cell_type": "code",
   "execution_count": 3,
   "metadata": {},
   "outputs": [
    {
     "name": "stdout",
     "output_type": "stream",
     "text": [
      "{'name': 'SDHL_MOUSE', 'sequence': 'MAAQESLHVKTPLRDSMALSKLAGTSVFLKMDSSQPSGSFKIRGIGHLCKMKAKQGCRHFVCSSAGNAGMATAYAARRLGIPATIVVPNTTPALTIERLKNEGATVEVVGEMLDEAIQVAKALEKNNPGWVYISPFDDPLIWEGHTSLVKELKETLSAKPGAIVLSVGGGGLLCGVVQGLREVGWEDVPIIAMETFGAHSFHAAIKEGKLVTLPKITSVAKALGVNTVGAQTLKLFYEHPIFSEVISDQEAVSALEKFVDDEKILVEPACGAALAAVYSRVVCRLQDEGRLQTPLASLVVIVCGGSNISLAQLQALKVQLGLNGLPE', 'identifier': 'Q8VBT2', 'human_readable_name': 'L-serine dehydratase/L-threonine deaminase'}\n"
     ]
    }
   ],
   "source": [
    "import sys\n",
    "sys.path.append('/Users/zacharymcgrath/Documents/Layer_Research/Proteomics_Experiments/Database_Experiments/src')\n",
    "from file_io import fasta\n",
    "\n",
    "# the databse is shown in the column \"species\" so we'll just grab that manually from UniProt\n",
    "database_file_name = '/Users/zacharymcgrath/Downloads/uniprot-proteome_UP000000589.fasta'\n",
    "db_list = fasta.read(database_file_name, is_uniprot=True)\n",
    "print(db_list[1])"
   ]
  },
  {
   "cell_type": "markdown",
   "metadata": {},
   "source": [
    "#### switch list representation of database to dictionary based on the 'name' field"
   ]
  },
  {
   "cell_type": "code",
   "execution_count": 4,
   "metadata": {},
   "outputs": [],
   "source": [
    "from collections import defaultdict\n",
    "db_dict = defaultdict(list)\n",
    "\n",
    "for e in db_list:\n",
    "    db_dict[e['human_readable_name']].append({'sequence': e['sequence'], 'id': e['identifier'], 'name': e['name']})"
   ]
  },
  {
   "cell_type": "code",
   "execution_count": 5,
   "metadata": {},
   "outputs": [
    {
     "data": {
      "text/plain": [
       "[{'sequence': 'MPGGLLLGDEAPNFEANTTIGRIRFHDFLGDSWGILFSHPRDFTPVCTTELGRAAKLAPEFAKRNVKLIALSIDSVEDHLAWSKDINAYNGETPTEKLPFPIIDDKGRDLAILLGMLDPVEKDDNNMPVTARVVFIFGPDKKLKLSILYPATTGRNFDEILRVVDSLQLTGTKPVATPVDWKKGESVMVVPTLSEEEAKQCFPKGVFTKELPSGKKYLRYTPQP',\n",
       "  'id': 'O08709',\n",
       "  'name': 'PRDX6_MOUSE'},\n",
       " {'sequence': 'MKWHLKMRWGILFSHPRDFTPVCTTELGRAAKLAPEFAKRNVKLIALSIDSVEDHLAWSKDINAYNGETPTEKLPFPIIDDKGRDLAILLGMLDPVEKDANNMPVTARVVFIFGPDKKLKLSILYPATTGRNFDEILRVVDSLQLTGTKPVATPVDWKKGESVMVVPTLSEEEAKQCFPKGVFTKELPSGKKYLRYTPQP',\n",
       "  'id': 'D3Z0Y2',\n",
       "  'name': 'D3Z0Y2_MOUSE'},\n",
       " {'sequence': 'MPGGLLLGDEAPNFEANTTIGRIRFHDFLGDSWGILFSHPRDFTPVCTTELGRAAKLAPEFAKRNVKLIALSIDSVEDHLAWSKDINAYNGETPTEKLPFPIIDDKGRDLAILLGMLDPVEKDANNMPVTARVVFIFGPDKKLKLSILYPATTGRNFDEILRVVDSLQLTGTKPVATPVDWKKGESVMVVPTLSEEEAKQCFPKGVFTKELPSGKKYLRYTPQP',\n",
       "  'id': 'Q6GT24',\n",
       "  'name': 'Q6GT24_MOUSE'},\n",
       " {'sequence': 'MPGGLLLGDEAPNFEANTTIGRIRFHDFLGDSTSMLTMVKHPRKSCHFPSLMIRAGTLPSFWACWIQSRRTLTTCL',\n",
       "  'id': 'A0A0A6YXQ7',\n",
       "  'name': 'A0A0A6YXQ7_MOUSE'}]"
      ]
     },
     "execution_count": 5,
     "metadata": {},
     "output_type": "execute_result"
    }
   ],
   "source": [
    "db_dict['Peroxiredoxin-6']"
   ]
  },
  {
   "cell_type": "markdown",
   "metadata": {},
   "source": [
    "### we now have all of our proteins indexable in db_hmn_dict by 'entry_name' in df"
   ]
  },
  {
   "cell_type": "markdown",
   "metadata": {},
   "source": [
    "## Using the above info, create info part of the dictionary \n",
    "### Structure\n",
    "The high level structure is\n",
    "```python\n",
    "{'experiment_info': {\n",
    "    'proteins': [],\n",
    "    'peptides': []\n",
    "}}\n",
    "```\n",
    "Protein structure is \n",
    "```python\n",
    "{\n",
    "    \"name\": str,\n",
    "    \"human_readable_name\": str,\n",
    "    \"sequence\": str,\n",
    "    \"identifier\": str\n",
    "}\n",
    "```\n",
    "peptide structure is \n",
    "```python\n",
    "{\n",
    "    \"peptide_name\": \"peptide_00\",\n",
    "    \"peptide_sequence\": \"ALWGPDPAAAFVNQH\",\n",
    "    \"parent_name\": str,\n",
    "    \"parent_sequence\": str\",\n",
    "    \"starting_position\": 14,\n",
    "    \"ending_position\": 28 #inclusive\n",
    "}\n",
    "```"
   ]
  },
  {
   "cell_type": "code",
   "execution_count": 7,
   "metadata": {},
   "outputs": [
    {
     "name": "stdout",
     "output_type": "stream",
     "text": [
      "Missing 12 of 1086 peptides due to parent names\n"
     ]
    }
   ],
   "source": [
    "import regex as re\n",
    "exp = {'experiment_info': {\n",
    "    'proteins': [],\n",
    "    'peptides': []\n",
    "}}\n",
    "start_len = len(df)\n",
    "missing = 0\n",
    "fill_zeroes = len(str(len(df)))\n",
    "\n",
    "protein_count = defaultdict(int)\n",
    "\n",
    "def rm_parens(s):\n",
    "    if '(' in s:\n",
    "        print(s)\n",
    "        print(re.sub(r'\\([^)]*\\)', '', s))\n",
    "    return(re.sub(r'\\([^)]*\\)', '', s))\n",
    "\n",
    "def get_parent_info(name, pepseq):\n",
    "    if not isinstance(db_dict[name], list):\n",
    "        return db_dict[name]\n",
    "    else:\n",
    "        for e in db_dict[name]:\n",
    "            if pepseq in e['sequence']:\n",
    "                return e\n",
    "        \n",
    "for idx, row in df.iterrows():\n",
    "    if row[PARENT_PROTEIN_NAME] not in db_dict:\n",
    "        missing += 1\n",
    "        continue\n",
    "    pepname = 'peptide_'+ str(idx).zfill(fill_zeroes)\n",
    "    pepseq = rm_parens(row[SEQUENCE_COL_NAME])\n",
    "    parent_info = get_parent_info(row[PARENT_PROTEIN_NAME], pepseq)\n",
    "    parentname = parent_info['name']\n",
    "    parenthmnname = row[PARENT_PROTEIN_NAME]\n",
    "    parentseq = parent_info['sequence']\n",
    "    startpos = parentseq.index(pepseq)\n",
    "    endpos = startpos + len(pepseq) - 1\n",
    "    exp['experiment_info']['peptides'].append({\n",
    "        'peptide_name': pepname,\n",
    "        'peptide_sequence': pepseq,\n",
    "        'parent_name': parentname,\n",
    "        'parent_human_readable_name': parenthmnname,\n",
    "        'parent_sequence': parentseq,\n",
    "        'starting_position': startpos,\n",
    "        'ending_position': endpos\n",
    "    })\n",
    "    protein_count[parentname] += 1\n",
    "    \n",
    "print('Missing {} of {} peptides due to parent names'.format(missing, start_len))"
   ]
  },
  {
   "cell_type": "code",
   "execution_count": 8,
   "metadata": {},
   "outputs": [],
   "source": [
    "from copy import deepcopy\n",
    "for hmnrdblname in db_dict:\n",
    "    e = deepcopy(db_dict[hmnrdblname])\n",
    "    if isinstance(e, list):\n",
    "        for el in e:\n",
    "            if el['name'] not in protein_count:\n",
    "                continue\n",
    "            el['human_readable_name'] = hmnrdblname\n",
    "            exp['experiment_info']['proteins'].append(el)\n",
    "    else:\n",
    "        if e['name'] not in protein_count: \n",
    "            continue\n",
    "        e['human_readable_name'] = hmnrdblname\n",
    "        exp['experiment_info']['proteins'].append(e)"
   ]
  },
  {
   "cell_type": "code",
   "execution_count": 9,
   "metadata": {},
   "outputs": [
    {
     "name": "stdout",
     "output_type": "stream",
     "text": [
      "280\n"
     ]
    }
   ],
   "source": [
    "print(len(exp['experiment_info']['proteins']))"
   ]
  },
  {
   "cell_type": "markdown",
   "metadata": {},
   "source": [
    "## dump this to a file"
   ]
  },
  {
   "cell_type": "code",
   "execution_count": 10,
   "metadata": {},
   "outputs": [],
   "source": [
    "from file_io import JSON\n",
    "\n",
    "file_name = '/Users/zacharymcgrath/Desktop/Experiment output/NOD2_E3/experiment_data.json'\n",
    "JSON.save_dict(file_name, exp)"
   ]
  },
  {
   "cell_type": "code",
   "execution_count": null,
   "metadata": {},
   "outputs": [],
   "source": []
  }
 ],
 "metadata": {
  "kernelspec": {
   "display_name": "Python 3",
   "language": "python",
   "name": "python3"
  },
  "language_info": {
   "codemirror_mode": {
    "name": "ipython",
    "version": 3
   },
   "file_extension": ".py",
   "mimetype": "text/x-python",
   "name": "python",
   "nbconvert_exporter": "python",
   "pygments_lexer": "ipython3",
   "version": "3.7.4"
  }
 },
 "nbformat": 4,
 "nbformat_minor": 4
}
