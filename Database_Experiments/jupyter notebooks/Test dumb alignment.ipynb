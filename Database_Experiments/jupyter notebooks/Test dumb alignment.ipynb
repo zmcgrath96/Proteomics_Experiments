{
 "cells": [
  {
   "cell_type": "markdown",
   "metadata": {},
   "source": [
    "# Extra needed code"
   ]
  },
  {
   "cell_type": "markdown",
   "metadata": {},
   "source": [
    "## Spectra calculations"
   ]
  },
  {
   "cell_type": "code",
   "execution_count": 1,
   "metadata": {},
   "outputs": [],
   "source": [
    "amino_acids={\n",
    "    \"A\":71.037114,\n",
    "    \"R\":156.101111,\n",
    "    \"N\":114.042927,\n",
    "    \"D\":115.026943,\n",
    "    \"C\":103.009185,\n",
    "    \"E\":129.042593,\n",
    "    \"Q\":128.058578,\n",
    "    \"G\":57.021464,\n",
    "    \"H\":137.058912,\n",
    "    \"I\":113.084064,\n",
    "    \"L\":113.084064,\n",
    "    \"K\":128.094963,\n",
    "    \"M\":131.040485,\n",
    "    \"F\":147.068414,\n",
    "    \"P\":97.052764,\n",
    "    \"S\":87.032028,\n",
    "    \"T\":101.047679,\n",
    "    \"U\":150.95363,\n",
    "    \"W\":186.079313,\n",
    "    \"Y\":163.06332,\n",
    "    \"V\":99.068414\n",
    "}\n",
    "\n",
    "'''calc_masses\n",
    "\n",
    "DESC:\n",
    "    calculates the masses/spectrum for a sequence\n",
    "Inputs:\n",
    "    sequence: str amino acid sequence to change to list of masses\n",
    "    charge: int charge value to calculate masses for\n",
    "Outputs:\n",
    "    list of floats, float       spectrum and the precursor mass \n",
    "'''\n",
    "def calc_masses(sequence, charge):\n",
    "    masses = []\n",
    "\n",
    "    length = len(sequence)\n",
    "    total = 2 * 1.007825035 + 15.99491463 #This is the mass of water. Adding the mass of water to the sum of all the residue masses gives the mass of the peptide.\n",
    "    for i in range(length):\n",
    "        total +=  amino_acids[sequence[i]]\n",
    "\n",
    "    pre_mz = (total+charge*1.0072764)/charge   \n",
    "\n",
    "    if charge == 1:\n",
    "        #b+\n",
    "        total = 1.007825035 - 0.0005486 #for the H to turn the residue NH on the N-terminus into NH2\n",
    "        for i in range (0, length):\n",
    "            total += amino_acids[sequence[i]]\n",
    "            masses.append(total)\n",
    "            #Since z (the charge) is equal to one, the total here is the m/z\n",
    "\n",
    "        #y+\n",
    "        total = 3 * 1.007825035 + 15.99491463 - 0.0005486 #for the OH to turn the residue CO on the C-terminus into COOH + 1 proton to make NH into NH2 and 1 proton make positively charged\n",
    "        for i in range (0,length):\n",
    "            total += amino_acids[sequence[length-i-1]]\n",
    "            masses.append(total)\n",
    "\n",
    "    elif charge == 2:\n",
    "        #b++\n",
    "        total = 2 * 1.007825035 - 2 * 0.0005486 #adding one more proton this time to make it doubly charged\n",
    "        for i in range (0, length):\n",
    "            total += amino_acids[sequence[i]]\n",
    "            masses.append(total/2)\n",
    "\n",
    "        #y++\n",
    "        total = 4 * 1.007825035 + 15.99491463 - 2 * 0.0005486 #another proton to make doubly charged\n",
    "        for i in range (0, length):\n",
    "            total += amino_acids[sequence[length-i-1]]\n",
    "            masses.append(total/2)\n",
    "        #The masses you get exactly match Spectrum Mill. To get this, I had to make sure to use the mass of H+ and the mass of H when appropriate.\n",
    "\n",
    "    return masses, pre_mz"
   ]
  },
  {
   "cell_type": "markdown",
   "metadata": {},
   "source": [
    "## Scoring"
   ]
  },
  {
   "cell_type": "code",
   "execution_count": 29,
   "metadata": {},
   "outputs": [],
   "source": [
    "'''cmp_string_string\n",
    "\n",
    "DESC:\n",
    "    compare the two spectras from two strings\n",
    "    uses simple additive scoring\n",
    "PARAMS:\n",
    "    seq: string sequence of amino acids\n",
    "    ref_seq: string sequence of amino acids\n",
    "RETURNS:\n",
    "    float score from comparison\n",
    "'''\n",
    "def cmp_string_string(seq, ref_seq):\n",
    "    spec1, spec2 = [], []\n",
    "    m11, _ = calc_masses(seq, 1)\n",
    "    m12, _ = calc_masses(seq, 2)\n",
    "    m21, _ = calc_masses(ref_seq, 1)\n",
    "    m22, _ = calc_masses(ref_seq, 2)\n",
    "    spec1 = m11 + m12 \n",
    "    spec2 = m21 + m22 \n",
    "    return cmp_spectra_spectra(spec1, spec2)\n",
    "\n",
    "def cmp_spectra_spectra(spec: list, reference: list) -> float:\n",
    "    '''\n",
    "    CREATED FEB 26 2020\n",
    "    Score two spectra against eachother. Simple additive scoring with bonuses for streaks\n",
    "    Divides by the length of the reference to make it length biased for the reference\n",
    "\n",
    "    Inputs:\n",
    "        spec:       list of floats (from mass spectra)\n",
    "        reference:  list of floats (calculated from protein sequence)\n",
    "    Outputs:\n",
    "        score:      float score \n",
    "    '''\n",
    "    if len(spec) == 0 or len(reference) == 0:\n",
    "        return\n",
    "    streak = 0\n",
    "    last = False\n",
    "    score = 0\n",
    "    max_streak = 0\n",
    "    for mass in spec:\n",
    "        if last == True:\n",
    "            streak += 1\n",
    "            max_streak = max([streak, max_streak])\n",
    "\n",
    "        if mass in reference:\n",
    "            score += 1\n",
    "            last = True\n",
    "\n",
    "        else:\n",
    "            streak = 0\n",
    "            last = False\n",
    "    \n",
    "    score += max_streak\n",
    "    score /= (len(reference) / 2)\n",
    "    return score "
   ]
  },
  {
   "cell_type": "markdown",
   "metadata": {},
   "source": [
    "# Testing\n",
    "## Data"
   ]
  },
  {
   "cell_type": "code",
   "execution_count": 38,
   "metadata": {},
   "outputs": [],
   "source": [
    "insulin = 'MALWMRLLPLLALLALWGPDPAAAFVNQHLCGSHLVEALYLVCGERGFFYTPKTRREAEDLQVGQVELGGGPGAGSLQPLALEGSLQKRGIVEQCCTSICSLYQLENYCN'\n",
    "peptides = ['AFVNQ', 'AFVNQHLCGS', 'AFVNQHLCGSHLVEA', 'AFVNQHLCGSHLVEALYLVC'] # lengths of 5, 10, 15, 20 \n",
    "pep_starts = [insulin.index(p) for p in peptides]\n",
    "ks = [4, 6, 8, 10, 12, 14, 16, 18, 20]\n",
    "kmers = {}\n",
    "for k in ks:\n",
    "    gen_mers = lambda prot, l: [prot[i:i+l] for i in range(len(prot) - l + 1)]\n",
    "    kmers['k={}'.format(k)] = gen_mers(insulin, k)"
   ]
  },
  {
   "cell_type": "markdown",
   "metadata": {},
   "source": [
    "## Score kmers"
   ]
  },
  {
   "cell_type": "code",
   "execution_count": 39,
   "metadata": {},
   "outputs": [],
   "source": [
    "scores = {}\n",
    "for pep in peptides:\n",
    "    scores[pep] = {}\n",
    "    for k in ks: \n",
    "        kkey = 'k={}'.format(k)\n",
    "        score_mers = lambda pep, mer: [cmp_string_string(m, pep) for m in mer]\n",
    "        scores[pep][kkey] = score_mers(pep, kmers[kkey])"
   ]
  },
  {
   "cell_type": "markdown",
   "metadata": {},
   "source": [
    "## test alignment algorithm"
   ]
  },
  {
   "cell_type": "code",
   "execution_count": 40,
   "metadata": {},
   "outputs": [],
   "source": [
    "def make_alignment(estimated_start, pep_scores): # in the actual program, the start prediction comes from the aggregation, but i dont feel like doing that so we'll mock it\n",
    "    # pep scores is a dict {k=3: [], k=4: [], ...}\n",
    "    # go through all of these and find when the scores stop growing\n",
    "    max_score_k = 0\n",
    "    max_score = -10\n",
    "    get_k = lambda sk: int(sk[sk.index('=')+1:])\n",
    "    for ke in pep_scores:\n",
    "        # check to see that the starting position is in the length. If its not, we know the peptide is shorter than that k\n",
    "        if estimated_start > len(pep_scores[ke]):\n",
    "            continue\n",
    "        k = get_k(ke)\n",
    "        max_score, max_score_k = (max_score, max_score_k) if max_score >= pep_scores[ke][estimated_start] else (pep_scores[ke][estimated_start], k)\n",
    "    return max_score_k"
   ]
  },
  {
   "cell_type": "markdown",
   "metadata": {},
   "source": [
    "## run test alignment with data"
   ]
  },
  {
   "cell_type": "code",
   "execution_count": 41,
   "metadata": {},
   "outputs": [
    {
     "name": "stdout",
     "output_type": "stream",
     "text": [
      "estimating alignment for AFVNQ\n",
      "scores at the start position:\n",
      "k=4 score:1.2 | k=6 score:1.5 | k=8 score:1.5 | k=10 score:1.5 | k=12 score:1.5 | k=14 score:1.5 | k=16 score:1.5 | k=18 score:1.5 | k=20 score:1.5 |\n",
      "6\n",
      "estimating alignment for AFVNQHLCGS\n",
      "scores at the start position:\n",
      "k=4 score:0.6 | k=6 score:0.9 | k=8 score:1.2 | k=10 score:3.95 | k=12 score:1.6 | k=14 score:1.5 | k=16 score:1.5 | k=18 score:1.5 | k=20 score:1.5 |\n",
      "10\n",
      "estimating alignment for AFVNQHLCGSHLVEA\n",
      "scores at the start position:\n",
      "k=4 score:0.4 | k=6 score:0.6 | k=8 score:0.8 | k=10 score:1.0 | k=12 score:1.2 | k=14 score:1.4333333333333333 | k=16 score:1.5666666666666667 | k=18 score:1.5 | k=20 score:1.5 |\n",
      "16\n",
      "estimating alignment for AFVNQHLCGSHLVEALYLVC\n",
      "scores at the start position:\n",
      "k=4 score:0.3 | k=6 score:0.45 | k=8 score:0.675 | k=10 score:0.75 | k=12 score:0.9 | k=14 score:1.05 | k=16 score:1.2 | k=18 score:1.35 | k=20 score:3.975 |\n",
      "20\n"
     ]
    }
   ],
   "source": [
    "idx = 0\n",
    "for pep, pscores in scores.items():\n",
    "    print('estimating alignment for {}'.format(pep))\n",
    "    print('scores at the start position:\\n{}'.format(' '.join(['{} score:{} |'.format(str(ke), s[pep_starts[idx]]) for ke, s in pscores.items()])))\n",
    "    print(make_alignment(pep_starts[idx], pscores))\n",
    "    idx += 1\n",
    "    "
   ]
  },
  {
   "cell_type": "code",
   "execution_count": null,
   "metadata": {},
   "outputs": [],
   "source": []
  }
 ],
 "metadata": {
  "kernelspec": {
   "display_name": "Python 3",
   "language": "python",
   "name": "python3"
  },
  "language_info": {
   "codemirror_mode": {
    "name": "ipython",
    "version": 3
   },
   "file_extension": ".py",
   "mimetype": "text/x-python",
   "name": "python",
   "nbconvert_exporter": "python",
   "pygments_lexer": "ipython3",
   "version": "3.7.4"
  }
 },
 "nbformat": 4,
 "nbformat_minor": 4
}
