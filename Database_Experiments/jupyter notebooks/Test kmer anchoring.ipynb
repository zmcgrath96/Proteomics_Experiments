{
 "cells": [
  {
   "cell_type": "markdown",
   "metadata": {},
   "source": [
    "# Small k-mer scores to find points of interest"
   ]
  },
  {
   "cell_type": "markdown",
   "metadata": {},
   "source": [
    "### import all the scoring tools"
   ]
  },
  {
   "cell_type": "code",
   "execution_count": 1,
   "metadata": {},
   "outputs": [],
   "source": [
    "import sys\n",
    "sys.path.append('/Users/zacharymcgrath/Documents/Layer_Research/Proteomics_Experiments/Database_Experiments/src')\n",
    "\n",
    "from scoring import comparisons\n",
    "from spectra import gen_spectra\n",
    "\n",
    "import numpy as np\n",
    "from copy import deepcopy"
   ]
  },
  {
   "cell_type": "markdown",
   "metadata": {},
   "source": [
    "### Make some fake data for the time being"
   ]
  },
  {
   "cell_type": "markdown",
   "metadata": {},
   "source": [
    "#### reference "
   ]
  },
  {
   "cell_type": "code",
   "execution_count": 2,
   "metadata": {},
   "outputs": [],
   "source": [
    "insulin = 'MALWMRLLPLLALLALWGPDPAAAFVNQHLCGSHLVEALYLVCGERGFFYTPKTRREAEDLQVGQVELGGGPGAGSLQPLALEGSLQKRGIVEQCCTSICSLYQLENYCN'\n",
    "make_mers = lambda k, seq: [seq[i:i+k] for i in range(len(seq) - k + 1)]\n",
    "ins_3mers = make_mers(3, insulin)\n"
   ]
  },
  {
   "cell_type": "markdown",
   "metadata": {},
   "source": [
    "#### \"unknown\""
   ]
  },
  {
   "cell_type": "code",
   "execution_count": 3,
   "metadata": {},
   "outputs": [
    {
     "name": "stdout",
     "output_type": "stream",
     "text": [
      "R\n"
     ]
    }
   ],
   "source": [
    "pepseq = 'PGAGSLQPLALEGSLQKR'\n",
    "pepstart = insulin.index(pepseq)\n",
    "peplen = len(pepseq)\n",
    "pepspec = gen_spectra.gen_spectrum(pepseq)['spectrum']\n",
    "print(insulin[pepstart+peplen-1])"
   ]
  },
  {
   "cell_type": "markdown",
   "metadata": {},
   "source": [
    "### run all the kmers against this unknown spectra"
   ]
  },
  {
   "cell_type": "code",
   "execution_count": 4,
   "metadata": {},
   "outputs": [
    {
     "name": "stdout",
     "output_type": "stream",
     "text": [
      "{'k': 3, 'sequence': 'WMR', 'starting_position': 3, 'ending_position': 5, 'b-score': 0.0, 'y-score': 1.0}\n",
      "{'k': 3, 'sequence': 'PLL', 'starting_position': 8, 'ending_position': 10, 'b-score': 1.3333333333333333, 'y-score': 0.0}\n",
      "{'k': 3, 'sequence': 'GPD', 'starting_position': 17, 'ending_position': 19, 'b-score': 1.0, 'y-score': 0.0}\n",
      "{'k': 3, 'sequence': 'PDP', 'starting_position': 18, 'ending_position': 20, 'b-score': 1.3333333333333333, 'y-score': 0.0}\n",
      "{'k': 3, 'sequence': 'PAA', 'starting_position': 20, 'ending_position': 22, 'b-score': 1.0, 'y-score': 0.0}\n",
      "{'k': 3, 'sequence': 'GER', 'starting_position': 43, 'ending_position': 45, 'b-score': 0.0, 'y-score': 1.0}\n",
      "{'k': 3, 'sequence': 'PKT', 'starting_position': 51, 'ending_position': 53, 'b-score': 1.3333333333333333, 'y-score': 0.0}\n",
      "{'k': 3, 'sequence': 'KTR', 'starting_position': 52, 'ending_position': 54, 'b-score': 0.0, 'y-score': 1.0}\n",
      "{'k': 3, 'sequence': 'TRR', 'starting_position': 53, 'ending_position': 55, 'b-score': 0.0, 'y-score': 1.0}\n",
      "{'k': 3, 'sequence': 'GPG', 'starting_position': 70, 'ending_position': 72, 'b-score': 1.0, 'y-score': 0.0}\n",
      "{'k': 3, 'sequence': 'PGA', 'starting_position': 71, 'ending_position': 73, 'b-score': 3.6666666666666665, 'y-score': 0.0}\n",
      "{'k': 3, 'sequence': 'QPL', 'starting_position': 77, 'ending_position': 79, 'b-score': 1.0, 'y-score': 0.0}\n",
      "{'k': 3, 'sequence': 'PLA', 'starting_position': 78, 'ending_position': 80, 'b-score': 1.3333333333333333, 'y-score': 0.0}\n",
      "{'k': 3, 'sequence': 'QKR', 'starting_position': 86, 'ending_position': 88, 'b-score': 0.0, 'y-score': 3.6666666666666665}\n"
     ]
    }
   ],
   "source": [
    "scores = []\n",
    "for i, merseq in enumerate(ins_3mers):\n",
    "    b_merspec = gen_spectra.gen_spectrum(merseq, ion='b')['spectrum']\n",
    "    y_merspec = gen_spectra.gen_spectrum(merseq, ion='y')['spectrum']\n",
    "    b_score = comparisons.compare_masses(pepspec, b_merspec)\n",
    "    y_score = comparisons.compare_masses(pepspec, y_merspec)\n",
    "    entry = {\n",
    "        'k': 3,\n",
    "        'sequence': merseq,\n",
    "        'starting_position': i,\n",
    "        'ending_position': i + 2,\n",
    "        'b-score': b_score,\n",
    "        'y-score': y_score\n",
    "    }\n",
    "    scores.append(entry)\n",
    "    \n",
    "for sc in scores:\n",
    "    (sc['b-score'] > 0 or sc['y-score'] > 0)  and print(sc)"
   ]
  },
  {
   "cell_type": "code",
   "execution_count": 5,
   "metadata": {},
   "outputs": [],
   "source": [
    "# save the scores as (score, position)\n",
    "b_scores = [(x['b-score'], x['starting_position']) for x in scores]\n",
    "y_scores = [(x['y-score'], x['starting_position']) for x in scores]"
   ]
  },
  {
   "cell_type": "markdown",
   "metadata": {},
   "source": [
    "## Find a way to separate the interesting scores from the rest"
   ]
  },
  {
   "cell_type": "markdown",
   "metadata": {},
   "source": [
    "### try going for 2 stddevs away"
   ]
  },
  {
   "cell_type": "code",
   "execution_count": 7,
   "metadata": {},
   "outputs": [
    {
     "name": "stdout",
     "output_type": "stream",
     "text": [
      "[{'k': 3, 'sequence': 'PLL', 'starting_position': 8, 'ending_position': 10, 'b-score': 1.3333333333333333, 'y-score': 0.0}, {'k': 3, 'sequence': 'GPD', 'starting_position': 17, 'ending_position': 19, 'b-score': 1.0, 'y-score': 0.0}, {'k': 3, 'sequence': 'PDP', 'starting_position': 18, 'ending_position': 20, 'b-score': 1.3333333333333333, 'y-score': 0.0}, {'k': 3, 'sequence': 'PAA', 'starting_position': 20, 'ending_position': 22, 'b-score': 1.0, 'y-score': 0.0}, {'k': 3, 'sequence': 'PKT', 'starting_position': 51, 'ending_position': 53, 'b-score': 1.3333333333333333, 'y-score': 0.0}, {'k': 3, 'sequence': 'GPG', 'starting_position': 70, 'ending_position': 72, 'b-score': 1.0, 'y-score': 0.0}, {'k': 3, 'sequence': 'PGA', 'starting_position': 71, 'ending_position': 73, 'b-score': 3.6666666666666665, 'y-score': 0.0}, {'k': 3, 'sequence': 'QPL', 'starting_position': 77, 'ending_position': 79, 'b-score': 1.0, 'y-score': 0.0}, {'k': 3, 'sequence': 'PLA', 'starting_position': 78, 'ending_position': 80, 'b-score': 1.3333333333333333, 'y-score': 0.0}]\n",
      "[{'k': 3, 'sequence': 'WMR', 'starting_position': 3, 'ending_position': 5, 'b-score': 0.0, 'y-score': 1.0}, {'k': 3, 'sequence': 'GER', 'starting_position': 43, 'ending_position': 45, 'b-score': 0.0, 'y-score': 1.0}, {'k': 3, 'sequence': 'KTR', 'starting_position': 52, 'ending_position': 54, 'b-score': 0.0, 'y-score': 1.0}, {'k': 3, 'sequence': 'TRR', 'starting_position': 53, 'ending_position': 55, 'b-score': 0.0, 'y-score': 1.0}, {'k': 3, 'sequence': 'QKR', 'starting_position': 86, 'ending_position': 88, 'b-score': 0.0, 'y-score': 3.6666666666666665}]\n",
      "14\n"
     ]
    }
   ],
   "source": [
    "sb = np.std([b[0] for b in b_scores])\n",
    "sy = np.std([y[0] for y in y_scores])\n",
    "\n",
    "s2b = [sc for sc in scores if sc['b-score'] > 2*sb]\n",
    "s2y = [sc for sc in scores if sc['y-score'] > 2*sy]\n",
    "\n",
    "print(s2b)\n",
    "print(s2y)\n",
    "print(len(s2b) + len(s2y))"
   ]
  },
  {
   "cell_type": "markdown",
   "metadata": {},
   "source": [
    "## Only look at the 2 stddev scores and increase kmer length"
   ]
  },
  {
   "cell_type": "code",
   "execution_count": 8,
   "metadata": {},
   "outputs": [
    {
     "name": "stdout",
     "output_type": "stream",
     "text": [
      "PGAGSLQPLALEGSLQKR\n",
      "\n",
      "k=3 \t k=4\n",
      "PLL \t PLLA\n",
      "1.3333333333333333 \t 1.0 \n",
      "\n",
      "k=3 \t k=4\n",
      "GPD \t GPDP\n",
      "1.0 \t 0.75 \n",
      "\n",
      "k=3 \t k=4\n",
      "PDP \t PDPA\n",
      "1.3333333333333333 \t 1.0 \n",
      "\n",
      "k=3 \t k=4\n",
      "PAA \t PAAA\n",
      "1.0 \t 0.75 \n",
      "\n",
      "k=3 \t k=4\n",
      "PKT \t PKTR\n",
      "1.3333333333333333 \t 1.0 \n",
      "\n",
      "k=3 \t k=4\n",
      "GPG \t GPGA\n",
      "1.0 \t 1.5 \n",
      "\n",
      "k=3 \t k=4\n",
      "PGA \t PGAG\n",
      "3.6666666666666665 \t 3.75 \n",
      "\n",
      "k=3 \t k=4\n",
      "QPL \t QPLA\n",
      "1.0 \t 0.75 \n",
      "\n",
      "k=3 \t k=4\n",
      "PLA \t PLAL\n",
      "1.3333333333333333 \t 1.0 \n",
      "\n",
      "k=3 \t k=4\n",
      "WMR \t LWMR\n",
      "1.0 \t 0.75 \n",
      "\n",
      "k=3 \t k=4\n",
      "GER \t CGER\n",
      "1.0 \t 0.75 \n",
      "\n",
      "k=3 \t k=4\n",
      "KTR \t PKTR\n",
      "1.0 \t 0.75 \n",
      "\n",
      "k=3 \t k=4\n",
      "TRR \t KTRR\n",
      "1.0 \t 0.75 \n",
      "\n",
      "k=3 \t k=4\n",
      "QKR \t LQKR\n",
      "3.6666666666666665 \t 3.75 \n",
      "\n"
     ]
    }
   ],
   "source": [
    "make_mer_sp = lambda starting_pos, prot, k: prot[starting_pos: starting_pos+k]\n",
    "make_mer_ep = lambda ending_pos, prot, k: prot[ending_pos-k+1:ending_pos+1]\n",
    "\n",
    "ins_4mers = []\n",
    "print(pepseq)\n",
    "print('')\n",
    "\n",
    "for b in s2b:\n",
    "    merseq = make_mer_sp(b['starting_position'], insulin, 4)    \n",
    "    b_merspec = gen_spectra.gen_spectrum(merseq, ion='b')['spectrum']\n",
    "    y_merspec = gen_spectra.gen_spectrum(merseq, ion='y')['spectrum']\n",
    "    b_score = comparisons.compare_masses(pepspec, b_merspec)\n",
    "    y_score = comparisons.compare_masses(pepspec, y_merspec)\n",
    "    entry = deepcopy(b)\n",
    "    \n",
    "    entry['k'] = 4\n",
    "    entry['sequence'] = merseq\n",
    "    entry['ending_position'] = entry['starting_position'] + 3\n",
    "    entry['b-score'] = b_score\n",
    "    entry['y-score'] = y_score\n",
    "    \n",
    "    ins_4mers.append(entry)\n",
    "    \n",
    "    print('k={} \\t k={}\\n{} \\t {}\\n{} \\t {} \\n'.format(b['k'], entry['k'], b['sequence'], merseq, b['b-score'], b_score))\n",
    "\n",
    "for y in s2y:\n",
    "    merseq = make_mer_ep(y['ending_position'], insulin, 4)  \n",
    "    b_merspec = gen_spectra.gen_spectrum(merseq, ion='b')['spectrum']\n",
    "    y_merspec = gen_spectra.gen_spectrum(merseq, ion='y')['spectrum']\n",
    "    b_score = comparisons.compare_masses(pepspec, b_merspec)\n",
    "    y_score = comparisons.compare_masses(pepspec, y_merspec)\n",
    "    entry = deepcopy(y)\n",
    "    \n",
    "    entry['k'] = 4\n",
    "    entry['sequence'] = merseq\n",
    "    entry['starting_position'] = entry['ending_position'] - 3\n",
    "    entry['b-score'] = b_score\n",
    "    entry['y-score'] = y_score\n",
    "    ins_4mers.append(entry)\n",
    "    \n",
    "    print('k={} \\t k={}\\n{} \\t {}\\n{} \\t {} \\n'.format(y['k'], entry['k'], y['sequence'], merseq, y['y-score'], y_score))\n",
    "    \n",
    "    "
   ]
  },
  {
   "cell_type": "markdown",
   "metadata": {},
   "source": [
    "## Look at 2 stddevs again for the 4mer case"
   ]
  },
  {
   "cell_type": "code",
   "execution_count": 9,
   "metadata": {},
   "outputs": [
    {
     "name": "stdout",
     "output_type": "stream",
     "text": [
      "[{'k': 4, 'sequence': 'PGAG', 'starting_position': 71, 'ending_position': 74, 'b-score': 3.75, 'y-score': 0.0}]\n",
      "[{'k': 4, 'sequence': 'LQKR', 'starting_position': 85, 'ending_position': 88, 'b-score': 0.0, 'y-score': 3.75}]\n"
     ]
    }
   ],
   "source": [
    "sb = np.std([b['b-score'] for b in ins_4mers])\n",
    "sy = np.std([y['y-score'] for y in ins_4mers])\n",
    "\n",
    "s2b4 = [sc for sc in ins_4mers if sc['b-score'] > 2*sb]\n",
    "s2y4 = [sc for sc in ins_4mers if sc['y-score'] > 2*sy]\n",
    "\n",
    "print(s2b4)\n",
    "print(s2y4)"
   ]
  },
  {
   "cell_type": "markdown",
   "metadata": {},
   "source": [
    "### use these for 5 mers"
   ]
  },
  {
   "cell_type": "code",
   "execution_count": 10,
   "metadata": {},
   "outputs": [
    {
     "name": "stdout",
     "output_type": "stream",
     "text": [
      "k=4 \t k=5\n",
      "PGAG \t PGAGS\n",
      "3.75 \t 3.8 \n",
      "\n",
      "k=4 \t k=5\n",
      "LQKR \t LQKR\n",
      "3.75 \t 3.75 \n",
      "\n"
     ]
    }
   ],
   "source": [
    "ins_5mers = []\n",
    "\n",
    "for b in s2b4:\n",
    "    merseq = make_mer_sp(b['starting_position'], insulin, 5)    \n",
    "    b_merspec = gen_spectra.gen_spectrum(merseq, ion='b')['spectrum']\n",
    "    y_merspec = gen_spectra.gen_spectrum(merseq, ion='y')['spectrum']\n",
    "    b_score = comparisons.compare_masses(pepspec, b_merspec)\n",
    "    y_score = comparisons.compare_masses(pepspec, y_merspec)\n",
    "    entry = deepcopy(b)\n",
    "    \n",
    "    entry['k'] = 5\n",
    "    entry['sequence'] = merseq\n",
    "    entry['ending_position'] = entry['starting_position'] + 4\n",
    "    entry['b-score'] = b_score\n",
    "    entry['y-score'] = y_score\n",
    "    \n",
    "    ins_5mers.append(entry)\n",
    "    \n",
    "    print('k={} \\t k={}\\n{} \\t {}\\n{} \\t {} \\n'.format(b['k'], entry['k'], b['sequence'], merseq, b['b-score'], b_score))\n",
    "\n",
    "for y in s2y4:\n",
    "    merseq = make_mer_ep(y['ending_position'], insulin, 4)  \n",
    "    b_merspec = gen_spectra.gen_spectrum(merseq, ion='b')['spectrum']\n",
    "    y_merspec = gen_spectra.gen_spectrum(merseq, ion='y')['spectrum']\n",
    "    b_score = comparisons.compare_masses(pepspec, b_merspec)\n",
    "    y_score = comparisons.compare_masses(pepspec, y_merspec)\n",
    "    entry = deepcopy(y)\n",
    "    \n",
    "    entry['k'] = 5\n",
    "    entry['sequence'] = merseq\n",
    "    entry['starting_position'] = entry['ending_position'] - 4\n",
    "    entry['b-score'] = b_score\n",
    "    entry['y-score'] = y_score\n",
    "    ins_5mers.append(entry)\n",
    "    \n",
    "    print('k={} \\t k={}\\n{} \\t {}\\n{} \\t {} \\n'.format(y['k'], entry['k'], y['sequence'], merseq, y['y-score'], y_score))\n",
    "    "
   ]
  },
  {
   "cell_type": "markdown",
   "metadata": {},
   "source": [
    "## Automating the process\n",
    "### Process\n",
    "1. Run small k-mers (k=3)\n",
    "2. Filter out the low scores by using 2stddevs\n",
    "3. Increase k-mer lengths till scores go down"
   ]
  },
  {
   "cell_type": "markdown",
   "metadata": {},
   "source": [
    "### Mock data, kmer making functions, and any constants"
   ]
  },
  {
   "cell_type": "code",
   "execution_count": 19,
   "metadata": {},
   "outputs": [],
   "source": [
    "insulin = 'MALWMRLLPLLALLALWGPDPAAAFVNQHLCGSHLVEALYLVCGERGFFYTPKTRREAEDLQVGQVELGGGPGAGSLQPLALEGSLQKRGIVEQCCTSICSLYQLENYCN'\n",
    "pepseq = 'PGAGSLQPLALEGSLQKR'\n",
    "pepstart = insulin.index(pepseq)\n",
    "peplen = len(pepseq)\n",
    "pepspec = gen_spectra.gen_spectrum(pepseq)['spectrum']\n",
    "# quick kmer making functions and sdevs\n",
    "make_mer_sp = lambda starting_pos, prot, k: prot[starting_pos: starting_pos+k]\n",
    "make_mer_ep = lambda ending_pos, prot, k: prot[ending_pos-k+1:ending_pos+1]\n",
    "sdevs = lambda scores: np.std(scores)\n",
    "# the starting kmer length to use\n",
    "starting_k = 3\n"
   ]
  },
  {
   "cell_type": "markdown",
   "metadata": {},
   "source": [
    "### Find the important kmers to look for"
   ]
  },
  {
   "cell_type": "code",
   "execution_count": 25,
   "metadata": {},
   "outputs": [],
   "source": [
    "prot = insulin\n",
    "base_scores = []\n",
    "\n",
    "for i in range(len(prot) - starting_k + 1):\n",
    "    kmer = make_mer_sp(i, prot, starting_k)\n",
    "    kmerspec_b = gen_spectra.gen_spectrum(kmer, ion='b')['spectrum']\n",
    "    kmerspec_y = gen_spectra.gen_spectrum(kmer, ion='y')['spectrum']\n",
    "    b_score = comparisons.compare_masses(pepspec, kmerspec_b)\n",
    "    y_score = comparisons.compare_masses(pepspec, kmerspec_y)\n",
    "    \n",
    "    entry = {\n",
    "        'k': starting_k,\n",
    "        'sequence': kmer,\n",
    "        'b-score': b_score,\n",
    "        'y-score': y_score,\n",
    "        'starting_position': i, \n",
    "        'ending_position': i + starting_k - 1\n",
    "    }\n",
    "    base_scores.append(entry)\n",
    "    \n",
    "b_sdevs = sdevs([b['b-score'] for b in base_scores])\n",
    "y_sdevs = sdevs([y['y-score'] for y in base_scores])\n",
    "\n",
    "b_anchors = [b for b in base_scores if b['b-score'] >= b_sdevs*2]\n",
    "y_anchors = [y for y in base_scores if y['y-score'] >= y_sdevs*2]"
   ]
  },
  {
   "cell_type": "markdown",
   "metadata": {},
   "source": [
    "### incrementing k and only taking scores that stay the same or increase"
   ]
  },
  {
   "cell_type": "code",
   "execution_count": 33,
   "metadata": {},
   "outputs": [
    {
     "name": "stdout",
     "output_type": "stream",
     "text": [
      "Top b result: \n",
      "{'k': 18, 'sequence': 'PGAGSLQPLALEGSLQKR', 'starting_position': 71, 'ending_position': 88, 'b-score': 3.9444444444444446, 'y-score': 3.9444444444444446}\n",
      "\n",
      "Top y result: \n",
      "{'k': 18, 'sequence': 'PGAGSLQPLALEGSLQKR', 'starting_position': 71, 'ending_position': 88, 'b-score': 3.9444444444444446, 'y-score': 3.9444444444444446}\n",
      "\n"
     ]
    }
   ],
   "source": [
    "b_scores = deepcopy(b_anchors)\n",
    "y_scores = deepcopy(y_anchors)\n",
    "\n",
    "# keep track of the ones that we want to increment. Prepend it to the front and take the top\n",
    "b_list = []\n",
    "y_list = []\n",
    "\n",
    "def new_entry(old_entry: dict, prot: str, spectrum: list, ion='b') -> dict:\n",
    "    '''\n",
    "    Generate a new entry from the old entry\n",
    "    \n",
    "    Input:\n",
    "        old_entry:   dict entry with k, sequence, b and y scores, start and end positions\n",
    "        prot:        str sequence of the protein\n",
    "        spectrum:    list spectrum to score against\n",
    "    kwargs:\n",
    "        ion:         str ion type to determine which. Options are 'b', 'y'. Default='b' \n",
    "    Ouptut:\n",
    "        new_entry:   dict entry with the new k, new sequence, new b and y scores, new start and end positions\n",
    "    '''\n",
    "    starting_pos = old_entry['starting_position'] if ion == 'b' else old_entry['starting_position'] - 1\n",
    "    ending_pos = old_entry['ending_position'] + 1 if ion == 'b' else old_entry['ending_position']\n",
    "    mer_seq = prot[starting_pos:ending_pos+1]\n",
    "    mer_spec_b = gen_spectra.gen_spectrum(mer_seq, ion='b')['spectrum']\n",
    "    mer_spec_y = gen_spectra.gen_spectrum(mer_seq, ion='y')['spectrum']\n",
    "    return {\n",
    "        'k': old_entry['k'] + 1,\n",
    "        'sequence': mer_seq,\n",
    "        'starting_position': starting_pos,\n",
    "        'ending_position': ending_pos,\n",
    "        'b-score': comparisons.compare_masses(spectrum, mer_spec_b),\n",
    "        'y-score': comparisons.compare_masses(spectrum, mer_spec_y)\n",
    "    }\n",
    "while(len(b_scores)):\n",
    "    b_tmp = []\n",
    "    for i in range(len(b_scores)):\n",
    "        updated = new_entry(b_scores[i], prot, pepspec, ion='b')\n",
    "        if updated['b-score'] >= b_scores[i]['b-score']:\n",
    "            b_tmp.append(updated)\n",
    "        else: \n",
    "            b_list.insert(0, b_scores[i])\n",
    "    b_scores = b_tmp\n",
    "    \n",
    "while(len(y_scores)):\n",
    "    y_tmp = []\n",
    "    for i in range(len(y_scores)):\n",
    "        updated = new_entry(y_scores[i], prot, pepspec, ion='y')\n",
    "        if updated['y-score'] >= y_scores[i]['y-score']:\n",
    "            y_tmp.append(updated)\n",
    "        else: \n",
    "            y_list.insert(0, y_scores[i])\n",
    "    y_scores = y_tmp\n",
    "    \n",
    "print('Top b result: \\n{}\\n'.format(b_list[0]))\n",
    "print('Top y result: \\n{}\\n'.format(y_list[0]))\n",
    "        "
   ]
  },
  {
   "cell_type": "code",
   "execution_count": null,
   "metadata": {},
   "outputs": [],
   "source": []
  }
 ],
 "metadata": {
  "kernelspec": {
   "display_name": "Python 3",
   "language": "python",
   "name": "python3"
  },
  "language_info": {
   "codemirror_mode": {
    "name": "ipython",
    "version": 3
   },
   "file_extension": ".py",
   "mimetype": "text/x-python",
   "name": "python",
   "nbconvert_exporter": "python",
   "pygments_lexer": "ipython3",
   "version": "3.7.4"
  }
 },
 "nbformat": 4,
 "nbformat_minor": 4
}
