{
 "cells": [
  {
   "cell_type": "markdown",
   "metadata": {},
   "source": [
    "# Fake data"
   ]
  },
  {
   "cell_type": "code",
   "execution_count": 4,
   "metadata": {},
   "outputs": [
    {
     "name": "stdout",
     "output_type": "stream",
     "text": [
      "[['NQH', 'QHL', 'HLC', 'LCG', 'CGS', 'GSH', 'SHL', 'HLV', 'LVE', 'VEA', 'EAL', 'ALY', 'LYL', 'YLV', 'LVC', 'VCG', 'CGE', 'GER', 'ERG', 'RGF', 'GFF', 'FFY', 'FYT', 'YTP', 'TPK', 'PKT', 'KTR', 'TRR', 'RRE', 'REA', 'EAE', 'AED', 'EDL', 'DLQ', 'LQV'], ['NQHL', 'QHLC', 'HLCG', 'LCGS', 'CGSH', 'GSHL', 'SHLV', 'HLVE', 'LVEA', 'VEAL', 'EALY', 'ALYL', 'LYLV', 'YLVC', 'LVCG', 'VCGE', 'CGER', 'GERG', 'ERGF', 'RGFF', 'GFFY', 'FFYT', 'FYTP', 'YTPK', 'TPKT', 'PKTR', 'KTRR', 'TRRE', 'RREA', 'REAE', 'EAED', 'AEDL', 'EDLQ', 'DLQV'], ['NQHLCGSH', 'QHLCGSHL', 'HLCGSHLV', 'LCGSHLVE', 'CGSHLVEA', 'GSHLVEAL', 'SHLVEALY', 'HLVEALYL', 'LVEALYLV', 'VEALYLVC', 'EALYLVCG', 'ALYLVCGE', 'LYLVCGER', 'YLVCGERG', 'LVCGERGF', 'VCGERGFF', 'CGERGFFY', 'GERGFFYT', 'ERGFFYTP', 'RGFFYTPK', 'GFFYTPKT', 'FFYTPKTR', 'FYTPKTRR', 'YTPKTRRE', 'TPKTRREA', 'PKTRREAE', 'KTRREAED', 'TRREAEDL', 'RREAEDLQ', 'REAEDLQV'], ['NQHLCGSHLVEA', 'QHLCGSHLVEAL', 'HLCGSHLVEALY', 'LCGSHLVEALYL', 'CGSHLVEALYLV', 'GSHLVEALYLVC', 'SHLVEALYLVCG', 'HLVEALYLVCGE', 'LVEALYLVCGER', 'VEALYLVCGERG', 'EALYLVCGERGF', 'ALYLVCGERGFF', 'LYLVCGERGFFY', 'YLVCGERGFFYT', 'LVCGERGFFYTP', 'VCGERGFFYTPK', 'CGERGFFYTPKT', 'GERGFFYTPKTR', 'ERGFFYTPKTRR', 'RGFFYTPKTRRE', 'GFFYTPKTRREA', 'FFYTPKTRREAE', 'FYTPKTRREAED', 'YTPKTRREAEDL', 'TPKTRREAEDLQ', 'PKTRREAEDLQV']]\n"
     ]
    }
   ],
   "source": [
    "prot = 'NQHLCGSHLVEALYLVCGERGFFYTPKTRREAEDLQV'\n",
    "ks = [3, 4, 8, 12]\n",
    "make_mer = lambda k, prot: [prot[i: i+k] for i in range(len(prot) - k + 1)]\n",
    "kmers = [make_mer(k, prot) for k in ks]"
   ]
  },
  {
   "cell_type": "code",
   "execution_count": 23,
   "metadata": {},
   "outputs": [],
   "source": [
    "def print_prot_alignment(prot, mers):\n",
    "    print(prot)\n",
    "    for i, mer in enumerate(mers):\n",
    "        print(' '* i + mer)\n",
    "        \n",
    "def print_kmer_alignment(kmers1, kmers2):\n",
    "    for i in range(min(len(kmers1), len(kmers2))):\n",
    "        print(' '* i + kmers1[i])\n",
    "        print(' '* i + kmers2[i])\n",
    "        \n",
    "def print_right_kmer_alignment(kmers1, kmers2):\n",
    "    for i in range(min(len(kmers1), len(kmers2))):\n",
    "        diff = abs(len(kmers1[i]) - len(kmers2[i]))\n",
    "        print(' '* (i + diff) + kmers1[i])\n",
    "        print(' '* i + kmers2[i])"
   ]
  },
  {
   "cell_type": "markdown",
   "metadata": {},
   "source": [
    "# Right align these bad boys"
   ]
  },
  {
   "cell_type": "code",
   "execution_count": 62,
   "metadata": {},
   "outputs": [],
   "source": [
    "def right_align_seq(kmers):\n",
    "    min_k = min([len(kmer[0]) for kmer in kmers])\n",
    "    aligned_kmers = [None for _ in range(len(kmers))]\n",
    "    for i, kmer in enumerate(kmers):\n",
    "        diff = abs(len(kmer[0]) - min_k)\n",
    "        aligned_kmers[i] = [' ' for _ in range(diff)] + kmer\n",
    "        \n",
    "    return aligned_kmers\n",
    "\n",
    "def right_align_scores(kmer_scores):\n",
    "    get_k = lambda sk: int(sk[sk.index('=')+1:])\n",
    "    min_k = min([get_k(k) for k, scrs in kmer_scores.items()])\n",
    "    aligned_kmers = {}\n",
    "    for i, ke in enumerate(kmer_scores):\n",
    "        k = get_k(ke)\n",
    "        diff = abs(k - min_k)\n",
    "        aligned_kmers[ke] = [0 for _ in range(diff)] + kmer_scores[ke]\n",
    "        \n",
    "    return aligned_kmers\n",
    "\n",
    "a_kmers = right_align_seq(kmers)"
   ]
  },
  {
   "cell_type": "markdown",
   "metadata": {},
   "source": [
    "# Mock a scoring algorithm"
   ]
  },
  {
   "cell_type": "code",
   "execution_count": 63,
   "metadata": {},
   "outputs": [
    {
     "name": "stdout",
     "output_type": "stream",
     "text": [
      "{'k=3': [3, 3, 3, 3, 3, 3, 3, 3, 3, 3, 3, 3, 3, 3, 3, 3, 3, 3, 3, 3, 3, 3, 3, 3, 3, 3, 3, 3, 3, 3, 3, 3, 3, 3, 3], 'k=4': [4, 4, 4, 4, 4, 4, 4, 4, 4, 4, 4, 4, 4, 4, 4, 4, 4, 4, 4, 4, 4, 4, 4, 4, 4, 4, 4, 4, 4, 4, 4, 4, 4, 4], 'k=8': [8, 8, 8, 8, 8, 8, 8, 8, 8, 8, 8, 8, 8, 8, 8, 8, 8, 8, 8, 8, 8, 8, 8, 8, 8, 8, 8, 8, 8, 8], 'k=12': [12, 12, 12, 12, 12, 12, 12, 12, 12, 12, 12, 12, 12, 12, 12, 12, 12, 12, 12, 12, 12, 12, 12, 12, 12, 12]}\n"
     ]
    }
   ],
   "source": [
    "def mock_score(prot, kmer):\n",
    "    return [len(k) for k in kmer]\n",
    "\n",
    "scored_mers = {}\n",
    "for kmer in kmers:\n",
    "    scored_mers['k={}'.format(len(kmer[0]))] = mock_score(prot, kmer)\n",
    "print(scored_mers)"
   ]
  },
  {
   "cell_type": "code",
   "execution_count": 64,
   "metadata": {},
   "outputs": [
    {
     "name": "stdout",
     "output_type": "stream",
     "text": [
      "{'k=3': [3, 3, 3, 3, 3, 3, 3, 3, 3, 3, 3, 3, 3, 3, 3, 3, 3, 3, 3, 3, 3, 3, 3, 3, 3, 3, 3, 3, 3, 3, 3, 3, 3, 3, 3], 'k=4': [0, 4, 4, 4, 4, 4, 4, 4, 4, 4, 4, 4, 4, 4, 4, 4, 4, 4, 4, 4, 4, 4, 4, 4, 4, 4, 4, 4, 4, 4, 4, 4, 4, 4, 4], 'k=8': [0, 0, 0, 0, 0, 8, 8, 8, 8, 8, 8, 8, 8, 8, 8, 8, 8, 8, 8, 8, 8, 8, 8, 8, 8, 8, 8, 8, 8, 8, 8, 8, 8, 8, 8], 'k=12': [0, 0, 0, 0, 0, 0, 0, 0, 0, 12, 12, 12, 12, 12, 12, 12, 12, 12, 12, 12, 12, 12, 12, 12, 12, 12, 12, 12, 12, 12, 12, 12, 12, 12, 12]}\n"
     ]
    }
   ],
   "source": [
    "ra_scores = right_align_scores(scored_mers)\n",
    "print(ra_scores)"
   ]
  },
  {
   "cell_type": "code",
   "execution_count": 66,
   "metadata": {},
   "outputs": [
    {
     "name": "stdout",
     "output_type": "stream",
     "text": [
      "35\n",
      "35\n"
     ]
    }
   ],
   "source": [
    "print(len(ra_scores['k=3']))\n",
    "print(len(ra_scores['k=12']))"
   ]
  },
  {
   "cell_type": "code",
   "execution_count": null,
   "metadata": {},
   "outputs": [],
   "source": []
  }
 ],
 "metadata": {
  "kernelspec": {
   "display_name": "Python 3",
   "language": "python",
   "name": "python3"
  },
  "language_info": {
   "codemirror_mode": {
    "name": "ipython",
    "version": 3
   },
   "file_extension": ".py",
   "mimetype": "text/x-python",
   "name": "python",
   "nbconvert_exporter": "python",
   "pygments_lexer": "ipython3",
   "version": "3.7.4"
  }
 },
 "nbformat": 4,
 "nbformat_minor": 4
}
