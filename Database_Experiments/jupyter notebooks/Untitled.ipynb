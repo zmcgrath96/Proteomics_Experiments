{
 "cells": [
  {
   "cell_type": "markdown",
   "metadata": {},
   "source": [
    "## Testing giving all scores of same value same rank"
   ]
  },
  {
   "cell_type": "code",
   "execution_count": 11,
   "metadata": {},
   "outputs": [],
   "source": [
    "# (protein, score, position)\n",
    "correct_position = 3\n",
    "scores = [\n",
    "    ('insulin', 2, 3),\n",
    "    ('bdnf', 2, 3),\n",
    "    ('caprin', 2, 3),\n",
    "    ('insulin', 0.5, 1),\n",
    "    ('caprin', 0, 4)\n",
    "]"
   ]
  },
  {
   "cell_type": "code",
   "execution_count": 12,
   "metadata": {},
   "outputs": [],
   "source": [
    "def give_ranks(scores):\n",
    "    ranking = {}\n",
    "    scores.sort(reverse=True, key=lambda x: x[1])\n",
    "    # if scores are all the same, don't increment the rank\n",
    "    rank = 0\n",
    "    last_score = None\n",
    "    for score in scores:\n",
    "        if int(score[1]) != last_score:\n",
    "            rank += 1\n",
    "            last_score = int(score[1])\n",
    "        if int(score[2]) == correct_position:\n",
    "            ranking[score[0]] = rank\n",
    "    return ranking"
   ]
  },
  {
   "cell_type": "code",
   "execution_count": 13,
   "metadata": {},
   "outputs": [
    {
     "data": {
      "text/plain": [
       "{'insulin': 1, 'bdnf': 1, 'caprin': 1}"
      ]
     },
     "execution_count": 13,
     "metadata": {},
     "output_type": "execute_result"
    }
   ],
   "source": [
    "give_ranks(scores)"
   ]
  },
  {
   "cell_type": "code",
   "execution_count": null,
   "metadata": {},
   "outputs": [],
   "source": []
  }
 ],
 "metadata": {
  "kernelspec": {
   "display_name": "Python 3",
   "language": "python",
   "name": "python3"
  },
  "language_info": {
   "codemirror_mode": {
    "name": "ipython",
    "version": 3
   },
   "file_extension": ".py",
   "mimetype": "text/x-python",
   "name": "python",
   "nbconvert_exporter": "python",
   "pygments_lexer": "ipython3",
   "version": "3.7.4"
  }
 },
 "nbformat": 4,
 "nbformat_minor": 4
}
