{
 "cells": [
  {
   "cell_type": "markdown",
   "metadata": {},
   "source": [
    "# Score files to json\n",
    "### bootstrap an experiment json file from the score files\n",
    "Needed because it crashed on saving to json even though score files exist"
   ]
  },
  {
   "cell_type": "code",
   "execution_count": 1,
   "metadata": {},
   "outputs": [
    {
     "name": "stdout",
     "output_type": "stream",
     "text": [
      "2706480\n",
      "/Users/zacharymcgrath/Desktop/Experiment output/NOD2_E3/search_output/tpd52_mouse_6_vs_peptide_0099.csv\n"
     ]
    }
   ],
   "source": [
    "from os import walk\n",
    "# get the score files from \n",
    "path_to_score_files = '/Users/zacharymcgrath/Desktop/Experiment output/NOD2_E3/search_output/'\n",
    "\n",
    "score_files = []\n",
    "\n",
    "for (dirpath, dirnames, filenames) in walk(path_to_score_files):\n",
    "    for fname in filenames:\n",
    "        score_files.append(path_to_score_files + fname)\n",
    "    break\n",
    "    \n",
    "print(len(score_files))\n",
    "print(score_files[0])"
   ]
  },
  {
   "cell_type": "code",
   "execution_count": 8,
   "metadata": {},
   "outputs": [
    {
     "name": "stdout",
     "output_type": "stream",
     "text": [
      "True\n"
     ]
    }
   ],
   "source": [
    "print('cetn2_mouse_10_vs_peptide_0012.csv.gz' in score_files)"
   ]
  },
  {
   "cell_type": "markdown",
   "metadata": {},
   "source": [
    "### import the old experiment"
   ]
  },
  {
   "cell_type": "code",
   "execution_count": 2,
   "metadata": {},
   "outputs": [
    {
     "name": "stdout",
     "output_type": "stream",
     "text": [
      "{'peptide_name': 'peptide_0012', 'peptide_sequence': 'DEILRVV', 'parent_name': 'PRDX6_MOUSE', 'parent_human_readable_name': 'Peroxiredoxin-6', 'parent_sequence': 'MPGGLLLGDEAPNFEANTTIGRIRFHDFLGDSWGILFSHPRDFTPVCTTELGRAAKLAPEFAKRNVKLIALSIDSVEDHLAWSKDINAYNGETPTEKLPFPIIDDKGRDLAILLGMLDPVEKDDNNMPVTARVVFIFGPDKKLKLSILYPATTGRNFDEILRVVDSLQLTGTKPVATPVDWKKGESVMVVPTLSEEEAKQCFPKGVFTKELPSGKKYLRYTPQP', 'starting_position': 157, 'ending_position': 163}\n"
     ]
    }
   ],
   "source": [
    "import json\n",
    "experiment_json_file = '/Users/zacharymcgrath/Desktop/Experiment output/NOD2_E3/experiment_data.json'\n",
    "exp = json.load(open(experiment_json_file, 'r'))\n",
    "\n",
    "prots = exp['experiment_info']['proteins']\n",
    "peps = exp['experiment_info']['peptides']\n",
    "\n",
    "\n",
    "print(peps[0])"
   ]
  },
  {
   "cell_type": "markdown",
   "metadata": {},
   "source": [
    "### import the experiment saving"
   ]
  },
  {
   "cell_type": "code",
   "execution_count": null,
   "metadata": {},
   "outputs": [
    {
     "name": "stdout",
     "output_type": "stream",
     "text": [
      "Progress: 72%\r"
     ]
    }
   ],
   "source": [
    "import sys\n",
    "sys.path.append('/Users/zacharymcgrath/Documents/Layer_Research/Proteomics_Experiments/Database_Experiments/src')\n",
    "\n",
    "from analysis import experiment\n",
    "\n",
    "experiment.save_experiment(prots, peps, {}, files=score_files)\n"
   ]
  },
  {
   "cell_type": "code",
   "execution_count": null,
   "metadata": {},
   "outputs": [],
   "source": []
  }
 ],
 "metadata": {
  "kernelspec": {
   "display_name": "Python 3",
   "language": "python",
   "name": "python3"
  },
  "language_info": {
   "codemirror_mode": {
    "name": "ipython",
    "version": 3
   },
   "file_extension": ".py",
   "mimetype": "text/x-python",
   "name": "python",
   "nbconvert_exporter": "python",
   "pygments_lexer": "ipython3",
   "version": "3.7.4"
  }
 },
 "nbformat": 4,
 "nbformat_minor": 4
}
